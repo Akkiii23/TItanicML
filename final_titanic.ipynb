{
 "cells": [
  {
   "cell_type": "code",
   "execution_count": 1,
   "metadata": {},
   "outputs": [],
   "source": [
    "import pandas as pd\n",
    "import numpy as np\n",
    "import matplotlib.pyplot as plt\n",
    "import pickle as pk\n",
    "import seaborn as sns\n",
    "%matplotlib inline"
   ]
  },
  {
   "cell_type": "code",
   "execution_count": 2,
   "metadata": {},
   "outputs": [],
   "source": [
    "df = pd.read_csv('train.csv')\n",
    "a = pd.read_csv('test.csv')"
   ]
  },
  {
   "cell_type": "code",
   "execution_count": 3,
   "metadata": {},
   "outputs": [],
   "source": [
    "models = []\n",
    "acc = []\n",
    "precision = []\n",
    "recall = []\n",
    "f1 = []"
   ]
  },
  {
   "cell_type": "code",
   "execution_count": 4,
   "metadata": {},
   "outputs": [
    {
     "data": {
      "text/html": [
       "<div>\n",
       "<style scoped>\n",
       "    .dataframe tbody tr th:only-of-type {\n",
       "        vertical-align: middle;\n",
       "    }\n",
       "\n",
       "    .dataframe tbody tr th {\n",
       "        vertical-align: top;\n",
       "    }\n",
       "\n",
       "    .dataframe thead th {\n",
       "        text-align: right;\n",
       "    }\n",
       "</style>\n",
       "<table border=\"1\" class=\"dataframe\">\n",
       "  <thead>\n",
       "    <tr style=\"text-align: right;\">\n",
       "      <th></th>\n",
       "      <th>PassengerId</th>\n",
       "      <th>Survived</th>\n",
       "      <th>Pclass</th>\n",
       "      <th>Name</th>\n",
       "      <th>Sex</th>\n",
       "      <th>Age</th>\n",
       "      <th>SibSp</th>\n",
       "      <th>Parch</th>\n",
       "      <th>Ticket</th>\n",
       "      <th>Fare</th>\n",
       "      <th>Cabin</th>\n",
       "      <th>Embarked</th>\n",
       "    </tr>\n",
       "  </thead>\n",
       "  <tbody>\n",
       "    <tr>\n",
       "      <th>0</th>\n",
       "      <td>1</td>\n",
       "      <td>0</td>\n",
       "      <td>3</td>\n",
       "      <td>Braund, Mr. Owen Harris</td>\n",
       "      <td>male</td>\n",
       "      <td>22.0</td>\n",
       "      <td>1</td>\n",
       "      <td>0</td>\n",
       "      <td>A/5 21171</td>\n",
       "      <td>7.2500</td>\n",
       "      <td>NaN</td>\n",
       "      <td>S</td>\n",
       "    </tr>\n",
       "    <tr>\n",
       "      <th>1</th>\n",
       "      <td>2</td>\n",
       "      <td>1</td>\n",
       "      <td>1</td>\n",
       "      <td>Cumings, Mrs. John Bradley (Florence Briggs Th...</td>\n",
       "      <td>female</td>\n",
       "      <td>38.0</td>\n",
       "      <td>1</td>\n",
       "      <td>0</td>\n",
       "      <td>PC 17599</td>\n",
       "      <td>71.2833</td>\n",
       "      <td>C85</td>\n",
       "      <td>C</td>\n",
       "    </tr>\n",
       "    <tr>\n",
       "      <th>2</th>\n",
       "      <td>3</td>\n",
       "      <td>1</td>\n",
       "      <td>3</td>\n",
       "      <td>Heikkinen, Miss. Laina</td>\n",
       "      <td>female</td>\n",
       "      <td>26.0</td>\n",
       "      <td>0</td>\n",
       "      <td>0</td>\n",
       "      <td>STON/O2. 3101282</td>\n",
       "      <td>7.9250</td>\n",
       "      <td>NaN</td>\n",
       "      <td>S</td>\n",
       "    </tr>\n",
       "    <tr>\n",
       "      <th>3</th>\n",
       "      <td>4</td>\n",
       "      <td>1</td>\n",
       "      <td>1</td>\n",
       "      <td>Futrelle, Mrs. Jacques Heath (Lily May Peel)</td>\n",
       "      <td>female</td>\n",
       "      <td>35.0</td>\n",
       "      <td>1</td>\n",
       "      <td>0</td>\n",
       "      <td>113803</td>\n",
       "      <td>53.1000</td>\n",
       "      <td>C123</td>\n",
       "      <td>S</td>\n",
       "    </tr>\n",
       "    <tr>\n",
       "      <th>4</th>\n",
       "      <td>5</td>\n",
       "      <td>0</td>\n",
       "      <td>3</td>\n",
       "      <td>Allen, Mr. William Henry</td>\n",
       "      <td>male</td>\n",
       "      <td>35.0</td>\n",
       "      <td>0</td>\n",
       "      <td>0</td>\n",
       "      <td>373450</td>\n",
       "      <td>8.0500</td>\n",
       "      <td>NaN</td>\n",
       "      <td>S</td>\n",
       "    </tr>\n",
       "  </tbody>\n",
       "</table>\n",
       "</div>"
      ],
      "text/plain": [
       "   PassengerId  Survived  Pclass  \\\n",
       "0            1         0       3   \n",
       "1            2         1       1   \n",
       "2            3         1       3   \n",
       "3            4         1       1   \n",
       "4            5         0       3   \n",
       "\n",
       "                                                Name     Sex   Age  SibSp  \\\n",
       "0                            Braund, Mr. Owen Harris    male  22.0      1   \n",
       "1  Cumings, Mrs. John Bradley (Florence Briggs Th...  female  38.0      1   \n",
       "2                             Heikkinen, Miss. Laina  female  26.0      0   \n",
       "3       Futrelle, Mrs. Jacques Heath (Lily May Peel)  female  35.0      1   \n",
       "4                           Allen, Mr. William Henry    male  35.0      0   \n",
       "\n",
       "   Parch            Ticket     Fare Cabin Embarked  \n",
       "0      0         A/5 21171   7.2500   NaN        S  \n",
       "1      0          PC 17599  71.2833   C85        C  \n",
       "2      0  STON/O2. 3101282   7.9250   NaN        S  \n",
       "3      0            113803  53.1000  C123        S  \n",
       "4      0            373450   8.0500   NaN        S  "
      ]
     },
     "execution_count": 4,
     "metadata": {},
     "output_type": "execute_result"
    }
   ],
   "source": [
    "df.head()"
   ]
  },
  {
   "cell_type": "code",
   "execution_count": 5,
   "metadata": {},
   "outputs": [
    {
     "data": {
      "text/plain": [
       "(891, 12)"
      ]
     },
     "execution_count": 5,
     "metadata": {},
     "output_type": "execute_result"
    }
   ],
   "source": [
    "df.shape"
   ]
  },
  {
   "cell_type": "code",
   "execution_count": 6,
   "metadata": {},
   "outputs": [
    {
     "data": {
      "text/html": [
       "<div>\n",
       "<style scoped>\n",
       "    .dataframe tbody tr th:only-of-type {\n",
       "        vertical-align: middle;\n",
       "    }\n",
       "\n",
       "    .dataframe tbody tr th {\n",
       "        vertical-align: top;\n",
       "    }\n",
       "\n",
       "    .dataframe thead th {\n",
       "        text-align: right;\n",
       "    }\n",
       "</style>\n",
       "<table border=\"1\" class=\"dataframe\">\n",
       "  <thead>\n",
       "    <tr style=\"text-align: right;\">\n",
       "      <th></th>\n",
       "      <th>PassengerId</th>\n",
       "      <th>Survived</th>\n",
       "      <th>Pclass</th>\n",
       "      <th>Age</th>\n",
       "      <th>SibSp</th>\n",
       "      <th>Parch</th>\n",
       "      <th>Fare</th>\n",
       "    </tr>\n",
       "  </thead>\n",
       "  <tbody>\n",
       "    <tr>\n",
       "      <th>count</th>\n",
       "      <td>891.000000</td>\n",
       "      <td>891.000000</td>\n",
       "      <td>891.000000</td>\n",
       "      <td>714.000000</td>\n",
       "      <td>891.000000</td>\n",
       "      <td>891.000000</td>\n",
       "      <td>891.000000</td>\n",
       "    </tr>\n",
       "    <tr>\n",
       "      <th>mean</th>\n",
       "      <td>446.000000</td>\n",
       "      <td>0.383838</td>\n",
       "      <td>2.308642</td>\n",
       "      <td>29.699118</td>\n",
       "      <td>0.523008</td>\n",
       "      <td>0.381594</td>\n",
       "      <td>32.204208</td>\n",
       "    </tr>\n",
       "    <tr>\n",
       "      <th>std</th>\n",
       "      <td>257.353842</td>\n",
       "      <td>0.486592</td>\n",
       "      <td>0.836071</td>\n",
       "      <td>14.526497</td>\n",
       "      <td>1.102743</td>\n",
       "      <td>0.806057</td>\n",
       "      <td>49.693429</td>\n",
       "    </tr>\n",
       "    <tr>\n",
       "      <th>min</th>\n",
       "      <td>1.000000</td>\n",
       "      <td>0.000000</td>\n",
       "      <td>1.000000</td>\n",
       "      <td>0.420000</td>\n",
       "      <td>0.000000</td>\n",
       "      <td>0.000000</td>\n",
       "      <td>0.000000</td>\n",
       "    </tr>\n",
       "    <tr>\n",
       "      <th>25%</th>\n",
       "      <td>223.500000</td>\n",
       "      <td>0.000000</td>\n",
       "      <td>2.000000</td>\n",
       "      <td>20.125000</td>\n",
       "      <td>0.000000</td>\n",
       "      <td>0.000000</td>\n",
       "      <td>7.910400</td>\n",
       "    </tr>\n",
       "    <tr>\n",
       "      <th>50%</th>\n",
       "      <td>446.000000</td>\n",
       "      <td>0.000000</td>\n",
       "      <td>3.000000</td>\n",
       "      <td>28.000000</td>\n",
       "      <td>0.000000</td>\n",
       "      <td>0.000000</td>\n",
       "      <td>14.454200</td>\n",
       "    </tr>\n",
       "    <tr>\n",
       "      <th>75%</th>\n",
       "      <td>668.500000</td>\n",
       "      <td>1.000000</td>\n",
       "      <td>3.000000</td>\n",
       "      <td>38.000000</td>\n",
       "      <td>1.000000</td>\n",
       "      <td>0.000000</td>\n",
       "      <td>31.000000</td>\n",
       "    </tr>\n",
       "    <tr>\n",
       "      <th>max</th>\n",
       "      <td>891.000000</td>\n",
       "      <td>1.000000</td>\n",
       "      <td>3.000000</td>\n",
       "      <td>80.000000</td>\n",
       "      <td>8.000000</td>\n",
       "      <td>6.000000</td>\n",
       "      <td>512.329200</td>\n",
       "    </tr>\n",
       "  </tbody>\n",
       "</table>\n",
       "</div>"
      ],
      "text/plain": [
       "       PassengerId    Survived      Pclass         Age       SibSp  \\\n",
       "count   891.000000  891.000000  891.000000  714.000000  891.000000   \n",
       "mean    446.000000    0.383838    2.308642   29.699118    0.523008   \n",
       "std     257.353842    0.486592    0.836071   14.526497    1.102743   \n",
       "min       1.000000    0.000000    1.000000    0.420000    0.000000   \n",
       "25%     223.500000    0.000000    2.000000   20.125000    0.000000   \n",
       "50%     446.000000    0.000000    3.000000   28.000000    0.000000   \n",
       "75%     668.500000    1.000000    3.000000   38.000000    1.000000   \n",
       "max     891.000000    1.000000    3.000000   80.000000    8.000000   \n",
       "\n",
       "            Parch        Fare  \n",
       "count  891.000000  891.000000  \n",
       "mean     0.381594   32.204208  \n",
       "std      0.806057   49.693429  \n",
       "min      0.000000    0.000000  \n",
       "25%      0.000000    7.910400  \n",
       "50%      0.000000   14.454200  \n",
       "75%      0.000000   31.000000  \n",
       "max      6.000000  512.329200  "
      ]
     },
     "execution_count": 6,
     "metadata": {},
     "output_type": "execute_result"
    }
   ],
   "source": [
    "df.describe()"
   ]
  },
  {
   "cell_type": "code",
   "execution_count": 7,
   "metadata": {},
   "outputs": [
    {
     "name": "stdout",
     "output_type": "stream",
     "text": [
      "<class 'pandas.core.frame.DataFrame'>\n",
      "RangeIndex: 891 entries, 0 to 890\n",
      "Data columns (total 12 columns):\n",
      "PassengerId    891 non-null int64\n",
      "Survived       891 non-null int64\n",
      "Pclass         891 non-null int64\n",
      "Name           891 non-null object\n",
      "Sex            891 non-null object\n",
      "Age            714 non-null float64\n",
      "SibSp          891 non-null int64\n",
      "Parch          891 non-null int64\n",
      "Ticket         891 non-null object\n",
      "Fare           891 non-null float64\n",
      "Cabin          204 non-null object\n",
      "Embarked       889 non-null object\n",
      "dtypes: float64(2), int64(5), object(5)\n",
      "memory usage: 66.2+ KB\n"
     ]
    }
   ],
   "source": [
    "df.info()"
   ]
  },
  {
   "cell_type": "code",
   "execution_count": 8,
   "metadata": {},
   "outputs": [
    {
     "data": {
      "text/plain": [
       "Cabin          687\n",
       "Age            177\n",
       "Embarked         2\n",
       "Fare             0\n",
       "Ticket           0\n",
       "Parch            0\n",
       "SibSp            0\n",
       "Sex              0\n",
       "Name             0\n",
       "Pclass           0\n",
       "Survived         0\n",
       "PassengerId      0\n",
       "dtype: int64"
      ]
     },
     "execution_count": 8,
     "metadata": {},
     "output_type": "execute_result"
    }
   ],
   "source": [
    "df.isnull().sum().sort_values(ascending=False)"
   ]
  },
  {
   "cell_type": "code",
   "execution_count": 9,
   "metadata": {},
   "outputs": [
    {
     "data": {
      "text/plain": [
       "array(['PassengerId', 'Survived', 'Pclass', 'Name', 'Sex', 'Age', 'SibSp',\n",
       "       'Parch', 'Ticket', 'Fare', 'Cabin', 'Embarked'], dtype=object)"
      ]
     },
     "execution_count": 9,
     "metadata": {},
     "output_type": "execute_result"
    }
   ],
   "source": [
    "df.columns.values"
   ]
  },
  {
   "cell_type": "code",
   "execution_count": 10,
   "metadata": {},
   "outputs": [
    {
     "data": {
      "text/plain": [
       "<matplotlib.axes._subplots.AxesSubplot at 0x9476b70>"
      ]
     },
     "execution_count": 10,
     "metadata": {},
     "output_type": "execute_result"
    },
    {
     "data": {
      "image/png": "[encoded data removed]",
      "text/plain": [
       "<Figure size 432x288 with 1 Axes>"
      ]
     },
     "metadata": {
      "needs_background": "light"
     },
     "output_type": "display_data"
    }
   ],
   "source": [
    "sns.countplot(x='Age',hue='Sex',data=df)"
   ]
  },
  {
   "cell_type": "code",
   "execution_count": 11,
   "metadata": {},
   "outputs": [
    {
     "data": {
      "text/plain": [
       "<matplotlib.axes._subplots.AxesSubplot at 0x98f4d30>"
      ]
     },
     "execution_count": 11,
     "metadata": {},
     "output_type": "execute_result"
    },
    {
     "data": {
      "image/png": "[encoded data removed]",
      "text/plain": [
       "<Figure size 432x288 with 1 Axes>"
      ]
     },
     "metadata": {
      "needs_background": "light"
     },
     "output_type": "display_data"
    }
   ],
   "source": [
    "sns.barplot(x='Pclass',y='Survived',data=df)"
   ]
  },
  {
   "cell_type": "code",
   "execution_count": 12,
   "metadata": {},
   "outputs": [],
   "source": [
    "# Data Preprocessing\n",
    "df.drop(['Cabin'],axis=1,inplace=True)"
   ]
  },
  {
   "cell_type": "code",
   "execution_count": 13,
   "metadata": {},
   "outputs": [
    {
     "data": {
      "text/html": [
       "<div>\n",
       "<style scoped>\n",
       "    .dataframe tbody tr th:only-of-type {\n",
       "        vertical-align: middle;\n",
       "    }\n",
       "\n",
       "    .dataframe tbody tr th {\n",
       "        vertical-align: top;\n",
       "    }\n",
       "\n",
       "    .dataframe thead th {\n",
       "        text-align: right;\n",
       "    }\n",
       "</style>\n",
       "<table border=\"1\" class=\"dataframe\">\n",
       "  <thead>\n",
       "    <tr style=\"text-align: right;\">\n",
       "      <th></th>\n",
       "      <th>PassengerId</th>\n",
       "      <th>Survived</th>\n",
       "      <th>Pclass</th>\n",
       "      <th>Name</th>\n",
       "      <th>Sex</th>\n",
       "      <th>Age</th>\n",
       "      <th>SibSp</th>\n",
       "      <th>Parch</th>\n",
       "      <th>Ticket</th>\n",
       "      <th>Fare</th>\n",
       "      <th>Embarked</th>\n",
       "    </tr>\n",
       "  </thead>\n",
       "  <tbody>\n",
       "    <tr>\n",
       "      <th>0</th>\n",
       "      <td>1</td>\n",
       "      <td>0</td>\n",
       "      <td>3</td>\n",
       "      <td>Braund, Mr. Owen Harris</td>\n",
       "      <td>male</td>\n",
       "      <td>22.0</td>\n",
       "      <td>1</td>\n",
       "      <td>0</td>\n",
       "      <td>A/5 21171</td>\n",
       "      <td>7.2500</td>\n",
       "      <td>S</td>\n",
       "    </tr>\n",
       "    <tr>\n",
       "      <th>1</th>\n",
       "      <td>2</td>\n",
       "      <td>1</td>\n",
       "      <td>1</td>\n",
       "      <td>Cumings, Mrs. John Bradley (Florence Briggs Th...</td>\n",
       "      <td>female</td>\n",
       "      <td>38.0</td>\n",
       "      <td>1</td>\n",
       "      <td>0</td>\n",
       "      <td>PC 17599</td>\n",
       "      <td>71.2833</td>\n",
       "      <td>C</td>\n",
       "    </tr>\n",
       "    <tr>\n",
       "      <th>2</th>\n",
       "      <td>3</td>\n",
       "      <td>1</td>\n",
       "      <td>3</td>\n",
       "      <td>Heikkinen, Miss. Laina</td>\n",
       "      <td>female</td>\n",
       "      <td>26.0</td>\n",
       "      <td>0</td>\n",
       "      <td>0</td>\n",
       "      <td>STON/O2. 3101282</td>\n",
       "      <td>7.9250</td>\n",
       "      <td>S</td>\n",
       "    </tr>\n",
       "    <tr>\n",
       "      <th>3</th>\n",
       "      <td>4</td>\n",
       "      <td>1</td>\n",
       "      <td>1</td>\n",
       "      <td>Futrelle, Mrs. Jacques Heath (Lily May Peel)</td>\n",
       "      <td>female</td>\n",
       "      <td>35.0</td>\n",
       "      <td>1</td>\n",
       "      <td>0</td>\n",
       "      <td>113803</td>\n",
       "      <td>53.1000</td>\n",
       "      <td>S</td>\n",
       "    </tr>\n",
       "    <tr>\n",
       "      <th>4</th>\n",
       "      <td>5</td>\n",
       "      <td>0</td>\n",
       "      <td>3</td>\n",
       "      <td>Allen, Mr. William Henry</td>\n",
       "      <td>male</td>\n",
       "      <td>35.0</td>\n",
       "      <td>0</td>\n",
       "      <td>0</td>\n",
       "      <td>373450</td>\n",
       "      <td>8.0500</td>\n",
       "      <td>S</td>\n",
       "    </tr>\n",
       "  </tbody>\n",
       "</table>\n",
       "</div>"
      ],
      "text/plain": [
       "   PassengerId  Survived  Pclass  \\\n",
       "0            1         0       3   \n",
       "1            2         1       1   \n",
       "2            3         1       3   \n",
       "3            4         1       1   \n",
       "4            5         0       3   \n",
       "\n",
       "                                                Name     Sex   Age  SibSp  \\\n",
       "0                            Braund, Mr. Owen Harris    male  22.0      1   \n",
       "1  Cumings, Mrs. John Bradley (Florence Briggs Th...  female  38.0      1   \n",
       "2                             Heikkinen, Miss. Laina  female  26.0      0   \n",
       "3       Futrelle, Mrs. Jacques Heath (Lily May Peel)  female  35.0      1   \n",
       "4                           Allen, Mr. William Henry    male  35.0      0   \n",
       "\n",
       "   Parch            Ticket     Fare Embarked  \n",
       "0      0         A/5 21171   7.2500        S  \n",
       "1      0          PC 17599  71.2833        C  \n",
       "2      0  STON/O2. 3101282   7.9250        S  \n",
       "3      0            113803  53.1000        S  \n",
       "4      0            373450   8.0500        S  "
      ]
     },
     "execution_count": 13,
     "metadata": {},
     "output_type": "execute_result"
    }
   ],
   "source": [
    "df.head()"
   ]
  },
  {
   "cell_type": "code",
   "execution_count": 14,
   "metadata": {},
   "outputs": [
    {
     "data": {
      "text/plain": [
       "array(['S', 'C', 'Q', nan], dtype=object)"
      ]
     },
     "execution_count": 14,
     "metadata": {},
     "output_type": "execute_result"
    }
   ],
   "source": [
    "# Ordinal Encoding on Sex and Embarked\n",
    "s = df['Embarked'].unique()\n",
    "s"
   ]
  },
  {
   "cell_type": "code",
   "execution_count": 15,
   "metadata": {},
   "outputs": [
    {
     "data": {
      "text/plain": [
       "{'S': 0, 'C': 1, 'Q': 2, nan: 3}"
      ]
     },
     "execution_count": 15,
     "metadata": {},
     "output_type": "execute_result"
    }
   ],
   "source": [
    "ord_dict = {}\n",
    "i=0\n",
    "for cat in s:\n",
    "    ord_dict[cat] = i\n",
    "    i = i+1\n",
    "ord_dict"
   ]
  },
  {
   "cell_type": "code",
   "execution_count": 16,
   "metadata": {},
   "outputs": [],
   "source": [
    "df['Embarked_'] = df['Embarked'].map(ord_dict)"
   ]
  },
  {
   "cell_type": "code",
   "execution_count": 17,
   "metadata": {},
   "outputs": [
    {
     "data": {
      "text/plain": [
       "array(['male', 'female'], dtype=object)"
      ]
     },
     "execution_count": 17,
     "metadata": {},
     "output_type": "execute_result"
    }
   ],
   "source": [
    "k = df['Sex'].unique()\n",
    "k"
   ]
  },
  {
   "cell_type": "code",
   "execution_count": 18,
   "metadata": {},
   "outputs": [
    {
     "data": {
      "text/plain": [
       "{'male': 0, 'female': 1}"
      ]
     },
     "execution_count": 18,
     "metadata": {},
     "output_type": "execute_result"
    }
   ],
   "source": [
    "ord_dict = {}\n",
    "i=0\n",
    "for cat in k:\n",
    "    ord_dict[cat] = i\n",
    "    i = i+1\n",
    "ord_dict"
   ]
  },
  {
   "cell_type": "code",
   "execution_count": 19,
   "metadata": {},
   "outputs": [],
   "source": [
    "df['Sex_'] = df['Sex'].map(ord_dict)"
   ]
  },
  {
   "cell_type": "code",
   "execution_count": 20,
   "metadata": {},
   "outputs": [
    {
     "data": {
      "text/html": [
       "<div>\n",
       "<style scoped>\n",
       "    .dataframe tbody tr th:only-of-type {\n",
       "        vertical-align: middle;\n",
       "    }\n",
       "\n",
       "    .dataframe tbody tr th {\n",
       "        vertical-align: top;\n",
       "    }\n",
       "\n",
       "    .dataframe thead th {\n",
       "        text-align: right;\n",
       "    }\n",
       "</style>\n",
       "<table border=\"1\" class=\"dataframe\">\n",
       "  <thead>\n",
       "    <tr style=\"text-align: right;\">\n",
       "      <th></th>\n",
       "      <th>PassengerId</th>\n",
       "      <th>Survived</th>\n",
       "      <th>Pclass</th>\n",
       "      <th>Name</th>\n",
       "      <th>Sex</th>\n",
       "      <th>Age</th>\n",
       "      <th>SibSp</th>\n",
       "      <th>Parch</th>\n",
       "      <th>Ticket</th>\n",
       "      <th>Fare</th>\n",
       "      <th>Embarked</th>\n",
       "      <th>Embarked_</th>\n",
       "      <th>Sex_</th>\n",
       "    </tr>\n",
       "  </thead>\n",
       "  <tbody>\n",
       "    <tr>\n",
       "      <th>0</th>\n",
       "      <td>1</td>\n",
       "      <td>0</td>\n",
       "      <td>3</td>\n",
       "      <td>Braund, Mr. Owen Harris</td>\n",
       "      <td>male</td>\n",
       "      <td>22.0</td>\n",
       "      <td>1</td>\n",
       "      <td>0</td>\n",
       "      <td>A/5 21171</td>\n",
       "      <td>7.2500</td>\n",
       "      <td>S</td>\n",
       "      <td>0</td>\n",
       "      <td>0</td>\n",
       "    </tr>\n",
       "    <tr>\n",
       "      <th>1</th>\n",
       "      <td>2</td>\n",
       "      <td>1</td>\n",
       "      <td>1</td>\n",
       "      <td>Cumings, Mrs. John Bradley (Florence Briggs Th...</td>\n",
       "      <td>female</td>\n",
       "      <td>38.0</td>\n",
       "      <td>1</td>\n",
       "      <td>0</td>\n",
       "      <td>PC 17599</td>\n",
       "      <td>71.2833</td>\n",
       "      <td>C</td>\n",
       "      <td>1</td>\n",
       "      <td>1</td>\n",
       "    </tr>\n",
       "    <tr>\n",
       "      <th>2</th>\n",
       "      <td>3</td>\n",
       "      <td>1</td>\n",
       "      <td>3</td>\n",
       "      <td>Heikkinen, Miss. Laina</td>\n",
       "      <td>female</td>\n",
       "      <td>26.0</td>\n",
       "      <td>0</td>\n",
       "      <td>0</td>\n",
       "      <td>STON/O2. 3101282</td>\n",
       "      <td>7.9250</td>\n",
       "      <td>S</td>\n",
       "      <td>0</td>\n",
       "      <td>1</td>\n",
       "    </tr>\n",
       "    <tr>\n",
       "      <th>3</th>\n",
       "      <td>4</td>\n",
       "      <td>1</td>\n",
       "      <td>1</td>\n",
       "      <td>Futrelle, Mrs. Jacques Heath (Lily May Peel)</td>\n",
       "      <td>female</td>\n",
       "      <td>35.0</td>\n",
       "      <td>1</td>\n",
       "      <td>0</td>\n",
       "      <td>113803</td>\n",
       "      <td>53.1000</td>\n",
       "      <td>S</td>\n",
       "      <td>0</td>\n",
       "      <td>1</td>\n",
       "    </tr>\n",
       "    <tr>\n",
       "      <th>4</th>\n",
       "      <td>5</td>\n",
       "      <td>0</td>\n",
       "      <td>3</td>\n",
       "      <td>Allen, Mr. William Henry</td>\n",
       "      <td>male</td>\n",
       "      <td>35.0</td>\n",
       "      <td>0</td>\n",
       "      <td>0</td>\n",
       "      <td>373450</td>\n",
       "      <td>8.0500</td>\n",
       "      <td>S</td>\n",
       "      <td>0</td>\n",
       "      <td>0</td>\n",
       "    </tr>\n",
       "  </tbody>\n",
       "</table>\n",
       "</div>"
      ],
      "text/plain": [
       "   PassengerId  Survived  Pclass  \\\n",
       "0            1         0       3   \n",
       "1            2         1       1   \n",
       "2            3         1       3   \n",
       "3            4         1       1   \n",
       "4            5         0       3   \n",
       "\n",
       "                                                Name     Sex   Age  SibSp  \\\n",
       "0                            Braund, Mr. Owen Harris    male  22.0      1   \n",
       "1  Cumings, Mrs. John Bradley (Florence Briggs Th...  female  38.0      1   \n",
       "2                             Heikkinen, Miss. Laina  female  26.0      0   \n",
       "3       Futrelle, Mrs. Jacques Heath (Lily May Peel)  female  35.0      1   \n",
       "4                           Allen, Mr. William Henry    male  35.0      0   \n",
       "\n",
       "   Parch            Ticket     Fare Embarked  Embarked_  Sex_  \n",
       "0      0         A/5 21171   7.2500        S          0     0  \n",
       "1      0          PC 17599  71.2833        C          1     1  \n",
       "2      0  STON/O2. 3101282   7.9250        S          0     1  \n",
       "3      0            113803  53.1000        S          0     1  \n",
       "4      0            373450   8.0500        S          0     0  "
      ]
     },
     "execution_count": 20,
     "metadata": {},
     "output_type": "execute_result"
    }
   ],
   "source": [
    "df.head()"
   ]
  },
  {
   "cell_type": "code",
   "execution_count": 21,
   "metadata": {},
   "outputs": [],
   "source": [
    "df.drop(['Sex','Embarked'],axis=1,inplace=True)"
   ]
  },
  {
   "cell_type": "code",
   "execution_count": 22,
   "metadata": {},
   "outputs": [
    {
     "data": {
      "text/html": [
       "<div>\n",
       "<style scoped>\n",
       "    .dataframe tbody tr th:only-of-type {\n",
       "        vertical-align: middle;\n",
       "    }\n",
       "\n",
       "    .dataframe tbody tr th {\n",
       "        vertical-align: top;\n",
       "    }\n",
       "\n",
       "    .dataframe thead th {\n",
       "        text-align: right;\n",
       "    }\n",
       "</style>\n",
       "<table border=\"1\" class=\"dataframe\">\n",
       "  <thead>\n",
       "    <tr style=\"text-align: right;\">\n",
       "      <th></th>\n",
       "      <th>PassengerId</th>\n",
       "      <th>Survived</th>\n",
       "      <th>Pclass</th>\n",
       "      <th>Name</th>\n",
       "      <th>Age</th>\n",
       "      <th>SibSp</th>\n",
       "      <th>Parch</th>\n",
       "      <th>Ticket</th>\n",
       "      <th>Fare</th>\n",
       "      <th>Embarked_</th>\n",
       "      <th>Sex_</th>\n",
       "    </tr>\n",
       "  </thead>\n",
       "  <tbody>\n",
       "    <tr>\n",
       "      <th>0</th>\n",
       "      <td>1</td>\n",
       "      <td>0</td>\n",
       "      <td>3</td>\n",
       "      <td>Braund, Mr. Owen Harris</td>\n",
       "      <td>22.0</td>\n",
       "      <td>1</td>\n",
       "      <td>0</td>\n",
       "      <td>A/5 21171</td>\n",
       "      <td>7.2500</td>\n",
       "      <td>0</td>\n",
       "      <td>0</td>\n",
       "    </tr>\n",
       "    <tr>\n",
       "      <th>1</th>\n",
       "      <td>2</td>\n",
       "      <td>1</td>\n",
       "      <td>1</td>\n",
       "      <td>Cumings, Mrs. John Bradley (Florence Briggs Th...</td>\n",
       "      <td>38.0</td>\n",
       "      <td>1</td>\n",
       "      <td>0</td>\n",
       "      <td>PC 17599</td>\n",
       "      <td>71.2833</td>\n",
       "      <td>1</td>\n",
       "      <td>1</td>\n",
       "    </tr>\n",
       "    <tr>\n",
       "      <th>2</th>\n",
       "      <td>3</td>\n",
       "      <td>1</td>\n",
       "      <td>3</td>\n",
       "      <td>Heikkinen, Miss. Laina</td>\n",
       "      <td>26.0</td>\n",
       "      <td>0</td>\n",
       "      <td>0</td>\n",
       "      <td>STON/O2. 3101282</td>\n",
       "      <td>7.9250</td>\n",
       "      <td>0</td>\n",
       "      <td>1</td>\n",
       "    </tr>\n",
       "    <tr>\n",
       "      <th>3</th>\n",
       "      <td>4</td>\n",
       "      <td>1</td>\n",
       "      <td>1</td>\n",
       "      <td>Futrelle, Mrs. Jacques Heath (Lily May Peel)</td>\n",
       "      <td>35.0</td>\n",
       "      <td>1</td>\n",
       "      <td>0</td>\n",
       "      <td>113803</td>\n",
       "      <td>53.1000</td>\n",
       "      <td>0</td>\n",
       "      <td>1</td>\n",
       "    </tr>\n",
       "    <tr>\n",
       "      <th>4</th>\n",
       "      <td>5</td>\n",
       "      <td>0</td>\n",
       "      <td>3</td>\n",
       "      <td>Allen, Mr. William Henry</td>\n",
       "      <td>35.0</td>\n",
       "      <td>0</td>\n",
       "      <td>0</td>\n",
       "      <td>373450</td>\n",
       "      <td>8.0500</td>\n",
       "      <td>0</td>\n",
       "      <td>0</td>\n",
       "    </tr>\n",
       "  </tbody>\n",
       "</table>\n",
       "</div>"
      ],
      "text/plain": [
       "   PassengerId  Survived  Pclass  \\\n",
       "0            1         0       3   \n",
       "1            2         1       1   \n",
       "2            3         1       3   \n",
       "3            4         1       1   \n",
       "4            5         0       3   \n",
       "\n",
       "                                                Name   Age  SibSp  Parch  \\\n",
       "0                            Braund, Mr. Owen Harris  22.0      1      0   \n",
       "1  Cumings, Mrs. John Bradley (Florence Briggs Th...  38.0      1      0   \n",
       "2                             Heikkinen, Miss. Laina  26.0      0      0   \n",
       "3       Futrelle, Mrs. Jacques Heath (Lily May Peel)  35.0      1      0   \n",
       "4                           Allen, Mr. William Henry  35.0      0      0   \n",
       "\n",
       "             Ticket     Fare  Embarked_  Sex_  \n",
       "0         A/5 21171   7.2500          0     0  \n",
       "1          PC 17599  71.2833          1     1  \n",
       "2  STON/O2. 3101282   7.9250          0     1  \n",
       "3            113803  53.1000          0     1  \n",
       "4            373450   8.0500          0     0  "
      ]
     },
     "execution_count": 22,
     "metadata": {},
     "output_type": "execute_result"
    }
   ],
   "source": [
    "df.head()"
   ]
  },
  {
   "cell_type": "code",
   "execution_count": 23,
   "metadata": {},
   "outputs": [],
   "source": [
    "df.drop(['Name'],axis=1,inplace=True)"
   ]
  },
  {
   "cell_type": "code",
   "execution_count": 24,
   "metadata": {},
   "outputs": [],
   "source": [
    "data = [df,a]\n",
    "for dataset in data: \n",
    "    mean = df['Age'].mean()\n",
    "    std = df['Age'].std()\n",
    "    i_nul = dataset['Age'].isnull().sum()\n",
    "    # compute random numbers between the mean, std and is_null\n",
    "    rand_age = np.random.randint(mean - std, mean + std, size = i_nul)\n",
    "    # fill NaN values in Age column with random values generated\n",
    "    age_slice = dataset[\"Age\"].copy()\n",
    "    age_slice[np.isnan(age_slice)] = rand_age\n",
    "    dataset[\"Age\"] = age_slice\n",
    "    dataset[\"Age\"] = df[\"Age\"].astype(int)"
   ]
  },
  {
   "cell_type": "code",
   "execution_count": 25,
   "metadata": {},
   "outputs": [
    {
     "data": {
      "text/plain": [
       "0"
      ]
     },
     "execution_count": 25,
     "metadata": {},
     "output_type": "execute_result"
    }
   ],
   "source": [
    "df[\"Age\"].isnull().sum()"
   ]
  },
  {
   "cell_type": "code",
   "execution_count": 26,
   "metadata": {},
   "outputs": [
    {
     "name": "stdout",
     "output_type": "stream",
     "text": [
      "<class 'pandas.core.frame.DataFrame'>\n",
      "RangeIndex: 891 entries, 0 to 890\n",
      "Data columns (total 10 columns):\n",
      "PassengerId    891 non-null int64\n",
      "Survived       891 non-null int64\n",
      "Pclass         891 non-null int64\n",
      "Age            891 non-null int32\n",
      "SibSp          891 non-null int64\n",
      "Parch          891 non-null int64\n",
      "Ticket         891 non-null object\n",
      "Fare           891 non-null float64\n",
      "Embarked_      891 non-null int64\n",
      "Sex_           891 non-null int64\n",
      "dtypes: float64(1), int32(1), int64(7), object(1)\n",
      "memory usage: 62.7+ KB\n"
     ]
    }
   ],
   "source": [
    "df.info()"
   ]
  },
  {
   "cell_type": "code",
   "execution_count": 27,
   "metadata": {},
   "outputs": [
    {
     "data": {
      "text/html": [
       "<div>\n",
       "<style scoped>\n",
       "    .dataframe tbody tr th:only-of-type {\n",
       "        vertical-align: middle;\n",
       "    }\n",
       "\n",
       "    .dataframe tbody tr th {\n",
       "        vertical-align: top;\n",
       "    }\n",
       "\n",
       "    .dataframe thead th {\n",
       "        text-align: right;\n",
       "    }\n",
       "</style>\n",
       "<table border=\"1\" class=\"dataframe\">\n",
       "  <thead>\n",
       "    <tr style=\"text-align: right;\">\n",
       "      <th></th>\n",
       "      <th>PassengerId</th>\n",
       "      <th>Survived</th>\n",
       "      <th>Pclass</th>\n",
       "      <th>Age</th>\n",
       "      <th>SibSp</th>\n",
       "      <th>Parch</th>\n",
       "      <th>Ticket</th>\n",
       "      <th>Fare</th>\n",
       "      <th>Embarked_</th>\n",
       "      <th>Sex_</th>\n",
       "    </tr>\n",
       "  </thead>\n",
       "  <tbody>\n",
       "    <tr>\n",
       "      <th>0</th>\n",
       "      <td>1</td>\n",
       "      <td>0</td>\n",
       "      <td>3</td>\n",
       "      <td>22</td>\n",
       "      <td>1</td>\n",
       "      <td>0</td>\n",
       "      <td>A/5 21171</td>\n",
       "      <td>7.2500</td>\n",
       "      <td>0</td>\n",
       "      <td>0</td>\n",
       "    </tr>\n",
       "    <tr>\n",
       "      <th>1</th>\n",
       "      <td>2</td>\n",
       "      <td>1</td>\n",
       "      <td>1</td>\n",
       "      <td>38</td>\n",
       "      <td>1</td>\n",
       "      <td>0</td>\n",
       "      <td>PC 17599</td>\n",
       "      <td>71.2833</td>\n",
       "      <td>1</td>\n",
       "      <td>1</td>\n",
       "    </tr>\n",
       "    <tr>\n",
       "      <th>2</th>\n",
       "      <td>3</td>\n",
       "      <td>1</td>\n",
       "      <td>3</td>\n",
       "      <td>26</td>\n",
       "      <td>0</td>\n",
       "      <td>0</td>\n",
       "      <td>STON/O2. 3101282</td>\n",
       "      <td>7.9250</td>\n",
       "      <td>0</td>\n",
       "      <td>1</td>\n",
       "    </tr>\n",
       "    <tr>\n",
       "      <th>3</th>\n",
       "      <td>4</td>\n",
       "      <td>1</td>\n",
       "      <td>1</td>\n",
       "      <td>35</td>\n",
       "      <td>1</td>\n",
       "      <td>0</td>\n",
       "      <td>113803</td>\n",
       "      <td>53.1000</td>\n",
       "      <td>0</td>\n",
       "      <td>1</td>\n",
       "    </tr>\n",
       "    <tr>\n",
       "      <th>4</th>\n",
       "      <td>5</td>\n",
       "      <td>0</td>\n",
       "      <td>3</td>\n",
       "      <td>35</td>\n",
       "      <td>0</td>\n",
       "      <td>0</td>\n",
       "      <td>373450</td>\n",
       "      <td>8.0500</td>\n",
       "      <td>0</td>\n",
       "      <td>0</td>\n",
       "    </tr>\n",
       "  </tbody>\n",
       "</table>\n",
       "</div>"
      ],
      "text/plain": [
       "   PassengerId  Survived  Pclass  Age  SibSp  Parch            Ticket  \\\n",
       "0            1         0       3   22      1      0         A/5 21171   \n",
       "1            2         1       1   38      1      0          PC 17599   \n",
       "2            3         1       3   26      0      0  STON/O2. 3101282   \n",
       "3            4         1       1   35      1      0            113803   \n",
       "4            5         0       3   35      0      0            373450   \n",
       "\n",
       "      Fare  Embarked_  Sex_  \n",
       "0   7.2500          0     0  \n",
       "1  71.2833          1     1  \n",
       "2   7.9250          0     1  \n",
       "3  53.1000          0     1  \n",
       "4   8.0500          0     0  "
      ]
     },
     "execution_count": 27,
     "metadata": {},
     "output_type": "execute_result"
    }
   ],
   "source": [
    "df.head()"
   ]
  },
  {
   "cell_type": "code",
   "execution_count": 28,
   "metadata": {},
   "outputs": [],
   "source": [
    "df.drop(['Ticket'],axis=1,inplace=True)"
   ]
  },
  {
   "cell_type": "code",
   "execution_count": 29,
   "metadata": {},
   "outputs": [],
   "source": [
    "data = [df,a]\n",
    "\n",
    "for dataset in data:\n",
    "    dataset['Fare'] = dataset['Fare'].fillna(0)\n",
    "    dataset['Fare'] = dataset['Fare'].astype(int)"
   ]
  },
  {
   "cell_type": "code",
   "execution_count": 30,
   "metadata": {},
   "outputs": [],
   "source": [
    "data = [df,a]\n",
    "\n",
    "for dataset in data:\n",
    "    dataset.loc[ dataset[\"Fare\"] <= 7.5, [\"Fare\"]] = 0\n",
    "    dataset.loc[(dataset[\"Fare\"] > 7.5) & (dataset[\"Fare\"] <= 15),[\"Fare\"]] = 1\n",
    "    dataset.loc[(dataset[\"Fare\"] > 15) & (dataset[\"Fare\"] <= 31),[\"Fare\"]] = 2\n",
    "    dataset.loc[(dataset[\"Fare\"] > 31) & (dataset[\"Fare\"] <= 99),[\"Fare\"]] = 3\n",
    "    dataset.loc[(dataset[\"Fare\"] > 99) & (dataset[\"Fare\"] <= 250),[\"Fare\"]] = 4\n",
    "    dataset.loc[ dataset[\"Fare\"] > 250,[\"Fare\"]] = 5\n",
    "    dataset[\"Fare\"] = dataset[\"Fare\"].astype(int)"
   ]
  },
  {
   "cell_type": "code",
   "execution_count": 31,
   "metadata": {},
   "outputs": [
    {
     "data": {
      "text/plain": [
       "0"
      ]
     },
     "execution_count": 31,
     "metadata": {},
     "output_type": "execute_result"
    }
   ],
   "source": [
    "df[\"Fare\"].isnull().sum()"
   ]
  },
  {
   "cell_type": "code",
   "execution_count": 32,
   "metadata": {},
   "outputs": [
    {
     "name": "stdout",
     "output_type": "stream",
     "text": [
      "<class 'pandas.core.frame.DataFrame'>\n",
      "RangeIndex: 891 entries, 0 to 890\n",
      "Data columns (total 9 columns):\n",
      "PassengerId    891 non-null int64\n",
      "Survived       891 non-null int64\n",
      "Pclass         891 non-null int64\n",
      "Age            891 non-null int32\n",
      "SibSp          891 non-null int64\n",
      "Parch          891 non-null int64\n",
      "Fare           891 non-null int32\n",
      "Embarked_      891 non-null int64\n",
      "Sex_           891 non-null int64\n",
      "dtypes: int32(2), int64(7)\n",
      "memory usage: 55.7 KB\n"
     ]
    }
   ],
   "source": [
    "df.info()"
   ]
  },
  {
   "cell_type": "code",
   "execution_count": 33,
   "metadata": {},
   "outputs": [
    {
     "data": {
      "text/html": [
       "<div>\n",
       "<style scoped>\n",
       "    .dataframe tbody tr th:only-of-type {\n",
       "        vertical-align: middle;\n",
       "    }\n",
       "\n",
       "    .dataframe tbody tr th {\n",
       "        vertical-align: top;\n",
       "    }\n",
       "\n",
       "    .dataframe thead th {\n",
       "        text-align: right;\n",
       "    }\n",
       "</style>\n",
       "<table border=\"1\" class=\"dataframe\">\n",
       "  <thead>\n",
       "    <tr style=\"text-align: right;\">\n",
       "      <th></th>\n",
       "      <th>PassengerId</th>\n",
       "      <th>Survived</th>\n",
       "      <th>Pclass</th>\n",
       "      <th>Age</th>\n",
       "      <th>SibSp</th>\n",
       "      <th>Parch</th>\n",
       "      <th>Fare</th>\n",
       "      <th>Embarked_</th>\n",
       "      <th>Sex_</th>\n",
       "    </tr>\n",
       "  </thead>\n",
       "  <tbody>\n",
       "    <tr>\n",
       "      <th>0</th>\n",
       "      <td>1</td>\n",
       "      <td>0</td>\n",
       "      <td>3</td>\n",
       "      <td>22</td>\n",
       "      <td>1</td>\n",
       "      <td>0</td>\n",
       "      <td>0</td>\n",
       "      <td>0</td>\n",
       "      <td>0</td>\n",
       "    </tr>\n",
       "    <tr>\n",
       "      <th>1</th>\n",
       "      <td>2</td>\n",
       "      <td>1</td>\n",
       "      <td>1</td>\n",
       "      <td>38</td>\n",
       "      <td>1</td>\n",
       "      <td>0</td>\n",
       "      <td>3</td>\n",
       "      <td>1</td>\n",
       "      <td>1</td>\n",
       "    </tr>\n",
       "    <tr>\n",
       "      <th>2</th>\n",
       "      <td>3</td>\n",
       "      <td>1</td>\n",
       "      <td>3</td>\n",
       "      <td>26</td>\n",
       "      <td>0</td>\n",
       "      <td>0</td>\n",
       "      <td>0</td>\n",
       "      <td>0</td>\n",
       "      <td>1</td>\n",
       "    </tr>\n",
       "    <tr>\n",
       "      <th>3</th>\n",
       "      <td>4</td>\n",
       "      <td>1</td>\n",
       "      <td>1</td>\n",
       "      <td>35</td>\n",
       "      <td>1</td>\n",
       "      <td>0</td>\n",
       "      <td>3</td>\n",
       "      <td>0</td>\n",
       "      <td>1</td>\n",
       "    </tr>\n",
       "    <tr>\n",
       "      <th>4</th>\n",
       "      <td>5</td>\n",
       "      <td>0</td>\n",
       "      <td>3</td>\n",
       "      <td>35</td>\n",
       "      <td>0</td>\n",
       "      <td>0</td>\n",
       "      <td>1</td>\n",
       "      <td>0</td>\n",
       "      <td>0</td>\n",
       "    </tr>\n",
       "  </tbody>\n",
       "</table>\n",
       "</div>"
      ],
      "text/plain": [
       "   PassengerId  Survived  Pclass  Age  SibSp  Parch  Fare  Embarked_  Sex_\n",
       "0            1         0       3   22      1      0     0          0     0\n",
       "1            2         1       1   38      1      0     3          1     1\n",
       "2            3         1       3   26      0      0     0          0     1\n",
       "3            4         1       1   35      1      0     3          0     1\n",
       "4            5         0       3   35      0      0     1          0     0"
      ]
     },
     "execution_count": 33,
     "metadata": {},
     "output_type": "execute_result"
    }
   ],
   "source": [
    "df.head()"
   ]
  },
  {
   "cell_type": "code",
   "execution_count": 34,
   "metadata": {},
   "outputs": [],
   "source": [
    "df.drop(['PassengerId'],axis=1,inplace=True)"
   ]
  },
  {
   "cell_type": "code",
   "execution_count": 35,
   "metadata": {},
   "outputs": [
    {
     "data": {
      "text/plain": [
       "Index(['Survived', 'Pclass', 'Age', 'SibSp', 'Parch', 'Fare', 'Embarked_',\n",
       "       'Sex_'],\n",
       "      dtype='object')"
      ]
     },
     "execution_count": 35,
     "metadata": {},
     "output_type": "execute_result"
    }
   ],
   "source": [
    "df.columns"
   ]
  },
  {
   "cell_type": "code",
   "execution_count": 36,
   "metadata": {},
   "outputs": [
    {
     "data": {
      "text/plain": [
       "Survived     0\n",
       "Pclass       0\n",
       "Age          0\n",
       "SibSp        0\n",
       "Parch        0\n",
       "Fare         0\n",
       "Embarked_    0\n",
       "Sex_         0\n",
       "dtype: int64"
      ]
     },
     "execution_count": 36,
     "metadata": {},
     "output_type": "execute_result"
    }
   ],
   "source": [
    "df.isnull().sum()"
   ]
  },
  {
   "cell_type": "code",
   "execution_count": 37,
   "metadata": {},
   "outputs": [],
   "source": [
    "# Classification\n",
    "# Standard Scaling\n",
    "x = df.iloc[:,[1,2,3,4,5,6]].values\n",
    "y = df.iloc[:,[0]].values"
   ]
  },
  {
   "cell_type": "code",
   "execution_count": 38,
   "metadata": {},
   "outputs": [],
   "source": [
    "# Splitting the dataset\n",
    "from sklearn.model_selection import train_test_split\n",
    "x_train,x_test,y_train,y_test = train_test_split(x,y,test_size = 0.25,\n",
    "                                                random_state = 0)"
   ]
  },
  {
   "cell_type": "code",
   "execution_count": 39,
   "metadata": {},
   "outputs": [],
   "source": [
    "# Feature Selection\n",
    "from sklearn.preprocessing import StandardScaler\n",
    "sc = StandardScaler()"
   ]
  },
  {
   "cell_type": "code",
   "execution_count": 40,
   "metadata": {},
   "outputs": [
    {
     "name": "stderr",
     "output_type": "stream",
     "text": [
      "C:\\ProgramData\\Anaconda3\\lib\\site-packages\\sklearn\\utils\\validation.py:595: DataConversionWarning: Data with input dtype int64 was converted to float64 by StandardScaler.\n",
      "  warnings.warn(msg, DataConversionWarning)\n",
      "C:\\ProgramData\\Anaconda3\\lib\\site-packages\\sklearn\\utils\\validation.py:595: DataConversionWarning: Data with input dtype int64 was converted to float64 by StandardScaler.\n",
      "  warnings.warn(msg, DataConversionWarning)\n"
     ]
    }
   ],
   "source": [
    "x_train_sc = sc.fit_transform(x_train)"
   ]
  },
  {
   "cell_type": "code",
   "execution_count": 41,
   "metadata": {},
   "outputs": [
    {
     "data": {
      "text/plain": [
       "array([ 2.30538922, 29.72005988,  0.53443114,  0.39221557,  1.50299401,\n",
       "        0.36227545])"
      ]
     },
     "execution_count": 41,
     "metadata": {},
     "output_type": "execute_result"
    }
   ],
   "source": [
    "sc.mean_"
   ]
  },
  {
   "cell_type": "code",
   "execution_count": 42,
   "metadata": {},
   "outputs": [
    {
     "data": {
      "text/plain": [
       "array([  0.7001506 , 182.12971736,   1.34761689,   0.67550826,\n",
       "         1.56436229,   0.42863674])"
      ]
     },
     "execution_count": 42,
     "metadata": {},
     "output_type": "execute_result"
    }
   ],
   "source": [
    "sc.var_"
   ]
  },
  {
   "cell_type": "code",
   "execution_count": 43,
   "metadata": {},
   "outputs": [
    {
     "name": "stderr",
     "output_type": "stream",
     "text": [
      "C:\\ProgramData\\Anaconda3\\lib\\site-packages\\sklearn\\utils\\validation.py:595: DataConversionWarning: Data with input dtype int64 was converted to float64 by StandardScaler.\n",
      "  warnings.warn(msg, DataConversionWarning)\n"
     ]
    }
   ],
   "source": [
    "x_test_sc = sc.transform(x_test)"
   ]
  },
  {
   "cell_type": "code",
   "execution_count": 44,
   "metadata": {},
   "outputs": [],
   "source": [
    "# Logistic Regression\n",
    "from sklearn.linear_model import LogisticRegression\n",
    "lr = LogisticRegression(random_state = 0)"
   ]
  },
  {
   "cell_type": "code",
   "execution_count": 45,
   "metadata": {},
   "outputs": [
    {
     "name": "stderr",
     "output_type": "stream",
     "text": [
      "C:\\ProgramData\\Anaconda3\\lib\\site-packages\\sklearn\\linear_model\\logistic.py:433: FutureWarning: Default solver will be changed to 'lbfgs' in 0.22. Specify a solver to silence this warning.\n",
      "  FutureWarning)\n",
      "C:\\ProgramData\\Anaconda3\\lib\\site-packages\\sklearn\\utils\\validation.py:761: DataConversionWarning: A column-vector y was passed when a 1d array was expected. Please change the shape of y to (n_samples, ), for example using ravel().\n",
      "  y = column_or_1d(y, warn=True)\n"
     ]
    }
   ],
   "source": [
    "lr.fit(x_train_sc,y_train)\n",
    "models.append('Logistic Regression')"
   ]
  },
  {
   "cell_type": "code",
   "execution_count": 46,
   "metadata": {},
   "outputs": [
    {
     "data": {
      "text/plain": [
       "array([-0.52484749])"
      ]
     },
     "execution_count": 46,
     "metadata": {},
     "output_type": "execute_result"
    }
   ],
   "source": [
    "lr.intercept_"
   ]
  },
  {
   "cell_type": "code",
   "execution_count": 47,
   "metadata": {},
   "outputs": [
    {
     "data": {
      "text/plain": [
       "array([[-0.69756651, -0.46440736, -0.30887701,  0.17701664,  0.24276114,\n",
       "         0.32521617]])"
      ]
     },
     "execution_count": 47,
     "metadata": {},
     "output_type": "execute_result"
    }
   ],
   "source": [
    "lr.coef_"
   ]
  },
  {
   "cell_type": "code",
   "execution_count": 48,
   "metadata": {},
   "outputs": [
    {
     "data": {
      "text/plain": [
       "array([5], dtype=int32)"
      ]
     },
     "execution_count": 48,
     "metadata": {},
     "output_type": "execute_result"
    }
   ],
   "source": [
    "lr.n_iter_"
   ]
  },
  {
   "cell_type": "code",
   "execution_count": 49,
   "metadata": {},
   "outputs": [
    {
     "data": {
      "text/plain": [
       "array([0, 0, 0, 1, 0, 1, 1, 1, 1, 0, 0, 0, 0, 1, 1, 0, 0, 1, 0, 1, 0, 1,\n",
       "       0, 1, 0, 1, 0, 0, 1, 0, 0, 0, 0, 1, 0, 1, 0, 0, 0, 0, 1, 0, 0, 0,\n",
       "       1, 0, 0, 1, 0, 0, 1, 1, 1, 0, 1, 0, 0, 0, 0, 0, 0, 0, 1, 1, 0, 0,\n",
       "       0, 1, 1, 1, 0, 0, 1, 0, 0, 0, 1, 1, 0, 1, 0, 0, 0, 0, 0, 1, 1, 0,\n",
       "       0, 1, 1, 0, 1, 1, 0, 0, 1, 0, 0, 1, 0, 0, 0, 0, 0, 0, 0, 0, 0, 0,\n",
       "       0, 1, 0, 0, 1, 0, 0, 1, 0, 0, 0, 0, 0, 0, 0, 1, 0, 0, 0, 0, 0, 0,\n",
       "       0, 0, 0, 0, 0, 0, 0, 0, 0, 1, 0, 0, 0, 0, 0, 0, 1, 0, 0, 0, 0, 0,\n",
       "       1, 0, 0, 0, 0, 1, 0, 0, 1, 0, 0, 0, 0, 0, 0, 0, 0, 1, 0, 0, 0, 0,\n",
       "       1, 0, 0, 0, 0, 1, 0, 0, 1, 0, 0, 0, 0, 0, 0, 1, 0, 0, 0, 1, 0, 0,\n",
       "       1, 0, 0, 0, 0, 0, 0, 0, 0, 0, 0, 0, 0, 1, 0, 0, 0, 0, 0, 1, 0, 1,\n",
       "       0, 1, 0], dtype=int64)"
      ]
     },
     "execution_count": 49,
     "metadata": {},
     "output_type": "execute_result"
    }
   ],
   "source": [
    "lr.predict(x_test_sc)"
   ]
  },
  {
   "cell_type": "code",
   "execution_count": 50,
   "metadata": {},
   "outputs": [],
   "source": [
    "probs = lr.predict_proba(x_test_sc)"
   ]
  },
  {
   "cell_type": "code",
   "execution_count": 51,
   "metadata": {},
   "outputs": [
    {
     "data": {
      "text/plain": [
       "array([[0.62070785, 0.37929215],\n",
       "       [0.77167564, 0.22832436],\n",
       "       [0.5506474 , 0.4493526 ],\n",
       "       [0.18899345, 0.81100655],\n",
       "       [0.59182319, 0.40817681],\n",
       "       [0.28770902, 0.71229098],\n",
       "       [0.36075851, 0.63924149],\n",
       "       [0.21206311, 0.78793689],\n",
       "       [0.24511779, 0.75488221],\n",
       "       [0.65751398, 0.34248602],\n",
       "       [0.83969096, 0.16030904],\n",
       "       [0.69927926, 0.30072074],\n",
       "       [0.66187826, 0.33812174],\n",
       "       [0.28565701, 0.71434299],\n",
       "       [0.19383069, 0.80616931],\n",
       "       [0.7264954 , 0.2735046 ],\n",
       "       [0.74885738, 0.25114262],\n",
       "       [0.44614197, 0.55385803],\n",
       "       [0.81838895, 0.18161105],\n",
       "       [0.39865775, 0.60134225],\n",
       "       [0.52168795, 0.47831205],\n",
       "       [0.23299296, 0.76700704],\n",
       "       [0.53023437, 0.46976563],\n",
       "       [0.38717986, 0.61282014],\n",
       "       [0.74233028, 0.25766972],\n",
       "       [0.26539487, 0.73460513],\n",
       "       [0.83150454, 0.16849546],\n",
       "       [0.777682  , 0.222318  ],\n",
       "       [0.47956628, 0.52043372],\n",
       "       [0.63256876, 0.36743124],\n",
       "       [0.71908118, 0.28091882],\n",
       "       [0.76638087, 0.23361913],\n",
       "       [0.77981474, 0.22018526],\n",
       "       [0.36585519, 0.63414481],\n",
       "       [0.8531052 , 0.1468948 ],\n",
       "       [0.27769578, 0.72230422],\n",
       "       [0.87813205, 0.12186795],\n",
       "       [0.6060946 , 0.3939054 ],\n",
       "       [0.58119711, 0.41880289],\n",
       "       [0.79011766, 0.20988234],\n",
       "       [0.46610631, 0.53389369],\n",
       "       [0.70239035, 0.29760965],\n",
       "       [0.80793482, 0.19206518],\n",
       "       [0.77618185, 0.22381815],\n",
       "       [0.42948178, 0.57051822],\n",
       "       [0.83627097, 0.16372903],\n",
       "       [0.75932332, 0.24067668],\n",
       "       [0.12802087, 0.87197913],\n",
       "       [0.69199362, 0.30800638],\n",
       "       [0.52140188, 0.47859812],\n",
       "       [0.41194117, 0.58805883],\n",
       "       [0.15774575, 0.84225425],\n",
       "       [0.36857001, 0.63142999],\n",
       "       [0.75932332, 0.24067668],\n",
       "       [0.23204434, 0.76795566],\n",
       "       [0.60760095, 0.39239905],\n",
       "       [0.63949545, 0.36050455],\n",
       "       [0.75380946, 0.24619054],\n",
       "       [0.69392803, 0.30607197],\n",
       "       [0.71481235, 0.28518765],\n",
       "       [0.6803696 , 0.3196304 ],\n",
       "       [0.56055106, 0.43944894],\n",
       "       [0.46832306, 0.53167694],\n",
       "       [0.24048662, 0.75951338],\n",
       "       [0.68985077, 0.31014923],\n",
       "       [0.64630849, 0.35369151],\n",
       "       [0.53141362, 0.46858638],\n",
       "       [0.45694738, 0.54305262],\n",
       "       [0.3527027 , 0.6472973 ],\n",
       "       [0.28770902, 0.71229098],\n",
       "       [0.59031273, 0.40968727],\n",
       "       [0.54075661, 0.45924339],\n",
       "       [0.26471836, 0.73528164],\n",
       "       [0.72894803, 0.27105197],\n",
       "       [0.75527364, 0.24472636],\n",
       "       [0.75098596, 0.24901404],\n",
       "       [0.24576127, 0.75423873],\n",
       "       [0.33612182, 0.66387818],\n",
       "       [0.84092835, 0.15907165],\n",
       "       [0.46639161, 0.53360839],\n",
       "       [0.68049215, 0.31950785],\n",
       "       [0.65958787, 0.34041213],\n",
       "       [0.55445946, 0.44554054],\n",
       "       [0.73995555, 0.26004445],\n",
       "       [0.70187579, 0.29812421],\n",
       "       [0.26273405, 0.73726595],\n",
       "       [0.26894383, 0.73105617],\n",
       "       [0.92194009, 0.07805991],\n",
       "       [0.65416475, 0.34583525],\n",
       "       [0.17367543, 0.82632457],\n",
       "       [0.43107488, 0.56892512],\n",
       "       [0.75932332, 0.24067668],\n",
       "       [0.3605983 , 0.6394017 ],\n",
       "       [0.2783929 , 0.7216071 ],\n",
       "       [0.68657085, 0.31342915],\n",
       "       [0.75018326, 0.24981674],\n",
       "       [0.46568509, 0.53431491],\n",
       "       [0.7879106 , 0.2120894 ],\n",
       "       [0.62348131, 0.37651869],\n",
       "       [0.21047361, 0.78952639],\n",
       "       [0.78486571, 0.21513429],\n",
       "       [0.80180522, 0.19819478],\n",
       "       [0.75932332, 0.24067668],\n",
       "       [0.76228691, 0.23771309],\n",
       "       [0.79407996, 0.20592004],\n",
       "       [0.79609663, 0.20390337],\n",
       "       [0.6060946 , 0.3939054 ],\n",
       "       [0.56140636, 0.43859364],\n",
       "       [0.59860843, 0.40139157],\n",
       "       [0.59028058, 0.40971942],\n",
       "       [0.89538046, 0.10461954],\n",
       "       [0.22921109, 0.77078891],\n",
       "       [0.73381162, 0.26618838],\n",
       "       [0.76157818, 0.23842182],\n",
       "       [0.29433946, 0.70566054],\n",
       "       [0.6060946 , 0.3939054 ],\n",
       "       [0.80107288, 0.19892712],\n",
       "       [0.17367543, 0.82632457],\n",
       "       [0.86664598, 0.13335402],\n",
       "       [0.7052722 , 0.2947278 ],\n",
       "       [0.77215496, 0.22784504],\n",
       "       [0.56736562, 0.43263438],\n",
       "       [0.72894803, 0.27105197],\n",
       "       [0.53381725, 0.46618275],\n",
       "       [0.80793482, 0.19206518],\n",
       "       [0.48470209, 0.51529791],\n",
       "       [0.68780616, 0.31219384],\n",
       "       [0.83500446, 0.16499554],\n",
       "       [0.63557163, 0.36442837],\n",
       "       [0.77248546, 0.22751454],\n",
       "       [0.55584624, 0.44415376],\n",
       "       [0.73569342, 0.26430658],\n",
       "       [0.79501833, 0.20498167],\n",
       "       [0.77822732, 0.22177268],\n",
       "       [0.65520513, 0.34479487],\n",
       "       [0.73569342, 0.26430658],\n",
       "       [0.61206079, 0.38793921],\n",
       "       [0.87474753, 0.12525247],\n",
       "       [0.74144574, 0.25855426],\n",
       "       [0.56435745, 0.43564255],\n",
       "       [0.6060946 , 0.3939054 ],\n",
       "       [0.20648155, 0.79351845],\n",
       "       [0.83795876, 0.16204124],\n",
       "       [0.53023437, 0.46976563],\n",
       "       [0.57043399, 0.42956601],\n",
       "       [0.75527364, 0.24472636],\n",
       "       [0.62240037, 0.37759963],\n",
       "       [0.72803438, 0.27196562],\n",
       "       [0.28088635, 0.71911365],\n",
       "       [0.70807563, 0.29192437],\n",
       "       [0.51503378, 0.48496622],\n",
       "       [0.79140427, 0.20859573],\n",
       "       [0.82839492, 0.17160508],\n",
       "       [0.81654195, 0.18345805],\n",
       "       [0.39070644, 0.60929356],\n",
       "       [0.58954905, 0.41045095],\n",
       "       [0.75721568, 0.24278432],\n",
       "       [0.83214832, 0.16785168],\n",
       "       [0.71352352, 0.28647648],\n",
       "       [0.48175651, 0.51824349],\n",
       "       [0.86261856, 0.13738144],\n",
       "       [0.66522064, 0.33477936],\n",
       "       [0.46832306, 0.53167694],\n",
       "       [0.9033373 , 0.0966627 ],\n",
       "       [0.63767445, 0.36232555],\n",
       "       [0.79501833, 0.20498167],\n",
       "       [0.90466383, 0.09533617],\n",
       "       [0.777682  , 0.222318  ],\n",
       "       [0.78935348, 0.21064652],\n",
       "       [0.70807563, 0.29192437],\n",
       "       [0.8865586 , 0.1134414 ],\n",
       "       [0.33682662, 0.66317338],\n",
       "       [0.78357468, 0.21642532],\n",
       "       [0.85149231, 0.14850769],\n",
       "       [0.60963156, 0.39036844],\n",
       "       [0.69364853, 0.30635147],\n",
       "       [0.2474154 , 0.7525846 ],\n",
       "       [0.78357468, 0.21642532],\n",
       "       [0.72209551, 0.27790449],\n",
       "       [0.55819996, 0.44180004],\n",
       "       [0.63045307, 0.36954693],\n",
       "       [0.42554125, 0.57445875],\n",
       "       [0.66522064, 0.33477936],\n",
       "       [0.77167564, 0.22832436],\n",
       "       [0.49704318, 0.50295682],\n",
       "       [0.74233028, 0.25766972],\n",
       "       [0.53023437, 0.46976563],\n",
       "       [0.60313554, 0.39686446],\n",
       "       [0.80056934, 0.19943066],\n",
       "       [0.54594342, 0.45405658],\n",
       "       [0.78410956, 0.21589044],\n",
       "       [0.39613075, 0.60386925],\n",
       "       [0.62588129, 0.37411871],\n",
       "       [0.59781771, 0.40218229],\n",
       "       [0.65413466, 0.34586534],\n",
       "       [0.44280212, 0.55719788],\n",
       "       [0.83795876, 0.16204124],\n",
       "       [0.59535866, 0.40464134],\n",
       "       [0.40363104, 0.59636896],\n",
       "       [0.89856039, 0.10143961],\n",
       "       [0.71513746, 0.28486254],\n",
       "       [0.77563265, 0.22436735],\n",
       "       [0.86717694, 0.13282306],\n",
       "       [0.63463573, 0.36536427],\n",
       "       [0.72209551, 0.27790449],\n",
       "       [0.51873915, 0.48126085],\n",
       "       [0.80842421, 0.19157579],\n",
       "       [0.80253826, 0.19746174],\n",
       "       [0.51306238, 0.48693762],\n",
       "       [0.8830514 , 0.1169486 ],\n",
       "       [0.78935348, 0.21064652],\n",
       "       [0.41967009, 0.58032991],\n",
       "       [0.73158314, 0.26841686],\n",
       "       [0.54108717, 0.45891283],\n",
       "       [0.64633888, 0.35366112],\n",
       "       [0.75932332, 0.24067668],\n",
       "       [0.53589204, 0.46410796],\n",
       "       [0.4941735 , 0.5058265 ],\n",
       "       [0.74270262, 0.25729738],\n",
       "       [0.12684922, 0.87315078],\n",
       "       [0.75932332, 0.24067668],\n",
       "       [0.1399944 , 0.8600056 ],\n",
       "       [0.57329447, 0.42670553]])"
      ]
     },
     "execution_count": 51,
     "metadata": {},
     "output_type": "execute_result"
    }
   ],
   "source": [
    "probs"
   ]
  },
  {
   "cell_type": "code",
   "execution_count": 52,
   "metadata": {},
   "outputs": [
    {
     "data": {
      "text/plain": [
       "array([[-0.47689475, -0.96944854],\n",
       "       [-0.25919098, -1.47698801],\n",
       "       [-0.5966606 , -0.79994741],\n",
       "       [-1.6660429 , -0.20947915],\n",
       "       [-0.52454736, -0.89605483],\n",
       "       [-1.24580566, -0.33926877],\n",
       "       [-1.01954648, -0.44747298],\n",
       "       [-1.55087134, -0.23833729],\n",
       "       [-1.40601641, -0.28119355],\n",
       "       [-0.41928926, -1.07152443],\n",
       "       [-0.17472135, -1.83065185],\n",
       "       [-0.3577051 , -1.20157322],\n",
       "       [-0.41267363, -1.08434928],\n",
       "       [-1.25296344, -0.33639206],\n",
       "       [-1.64077022, -0.2154615 ],\n",
       "       [-0.31952313, -1.29643684],\n",
       "       [-0.28920673, -1.38173429],\n",
       "       [-0.80711805, -0.59084689],\n",
       "       [-0.20041757, -1.70588795],\n",
       "       [-0.91965201, -0.50859103],\n",
       "       [-0.65068567, -0.73749193],\n",
       "       [-1.45674704, -0.2652593 ],\n",
       "       [-0.63443616, -0.75552137],\n",
       "       [-0.94886595, -0.48968379],\n",
       "       [-0.29796101, -1.35607667],\n",
       "       [-1.32653649, -0.30842216],\n",
       "       [-0.18451852, -1.78084648],\n",
       "       [-0.25143757, -1.50364651],\n",
       "       [-0.73487316, -0.65309274],\n",
       "       [-0.45796635, -1.00121909],\n",
       "       [-0.32978102, -1.26968954],\n",
       "       [-0.26607601, -1.45406315],\n",
       "       [-0.24869891, -1.51328597],\n",
       "       [-1.00551768, -0.45547795],\n",
       "       [-0.15887241, -1.91803861],\n",
       "       [-1.28122909, -0.32530887],\n",
       "       [-0.1299583 , -2.10481718],\n",
       "       [-0.5007192 , -0.93164449],\n",
       "       [-0.54266532, -0.8703549 ],\n",
       "       [-0.23557341, -1.56120817],\n",
       "       [-0.76334154, -0.62755854],\n",
       "       [-0.35326597, -1.21197255],\n",
       "       [-0.21327389, -1.64992047],\n",
       "       [-0.25336844, -1.49692141],\n",
       "       [-0.84517595, -0.56121018],\n",
       "       [-0.1788026 , -1.80954246],\n",
       "       [-0.27532761, -1.42430083],\n",
       "       [-2.05556201, -0.13698979],\n",
       "       [-0.36817855, -1.17763477],\n",
       "       [-0.65123418, -0.73689402],\n",
       "       [-0.88687473, -0.53092828],\n",
       "       [-1.84677069, -0.17167336],\n",
       "       [-0.99812461, -0.4597682 ],\n",
       "       [-0.27532761, -1.42430083],\n",
       "       [-1.46082681, -0.26402328],\n",
       "       [-0.49823694, -0.93547597],\n",
       "       [-0.44707578, -1.02025069],\n",
       "       [-0.28261565, -1.40164948],\n",
       "       [-0.36538703, -1.183935  ],\n",
       "       [-0.33573521, -1.25460791],\n",
       "       [-0.38511909, -1.14058997],\n",
       "       [-0.57883494, -0.82223375],\n",
       "       [-0.75859692, -0.63171923],\n",
       "       [-1.42509083, -0.27507734],\n",
       "       [-0.37127998, -1.17070171],\n",
       "       [-0.43647835, -1.03933019],\n",
       "       [-0.63221462, -0.75803481],\n",
       "       [-0.78318704, -0.61054905],\n",
       "       [-1.0421298 , -0.43494958],\n",
       "       [-1.24580566, -0.33926877],\n",
       "       [-0.52710282, -0.89236118],\n",
       "       [-0.61478599, -0.77817495],\n",
       "       [-1.32908882, -0.30750167],\n",
       "       [-0.31615284, -1.30544469],\n",
       "       [-0.28067515, -1.40761461],\n",
       "       [-0.28636832, -1.390246  ],\n",
       "       [-1.40339465, -0.28204635],\n",
       "       [-1.09028161, -0.40965662],\n",
       "       [-0.17324881, -1.83840058],\n",
       "       [-0.76272963, -0.62809306],\n",
       "       [-0.38493899, -1.14097344],\n",
       "       [-0.41614008, -1.07759824],\n",
       "       [-0.58976159, -0.80846703],\n",
       "       [-0.30116517, -1.34690269],\n",
       "       [-0.35399882, -1.21024508],\n",
       "       [-1.33661296, -0.3048066 ],\n",
       "       [-1.31325273, -0.31326498],\n",
       "       [-0.08127503, -2.55027869],\n",
       "       [-0.42439605, -1.06179276],\n",
       "       [-1.75056709, -0.19076764],\n",
       "       [-0.84147347, -0.56400645],\n",
       "       [-0.27532761, -1.42430083],\n",
       "       [-1.01999069, -0.44722238],\n",
       "       [-1.27872186, -0.32627447],\n",
       "       [-0.37604586, -1.16018193],\n",
       "       [-0.28743776, -1.38702766],\n",
       "       [-0.76424565, -0.62676989],\n",
       "       [-0.23837064, -1.55074742],\n",
       "       [-0.47243649, -0.9767876 ],\n",
       "       [-1.55839502, -0.23632201],\n",
       "       [-0.24224264, -1.53649285],\n",
       "       [-0.22088957, -1.618505  ],\n",
       "       [-0.27532761, -1.42430083],\n",
       "       [-0.27143227, -1.43669083],\n",
       "       [-0.23057112, -1.58026733],\n",
       "       [-0.22803471, -1.59010905],\n",
       "       [-0.5007192 , -0.93164449],\n",
       "       [-0.57731029, -0.82418194],\n",
       "       [-0.5131476 , -0.91281785],\n",
       "       [-0.5271573 , -0.89228269],\n",
       "       [-0.11050655, -2.25742495],\n",
       "       [-1.47311191, -0.26034073],\n",
       "       [-0.30950293, -1.32355104],\n",
       "       [-0.27236245, -1.43371381],\n",
       "       [-1.22302156, -0.34862097],\n",
       "       [-0.5007192 , -0.93164449],\n",
       "       [-0.22180335, -1.61481676],\n",
       "       [-1.75056709, -0.19076764],\n",
       "       [-0.14312471, -2.01474789],\n",
       "       [-0.34917146, -1.22170304],\n",
       "       [-0.25857002, -1.47908955],\n",
       "       [-0.56675135, -0.8378623 ],\n",
       "       [-0.31615284, -1.30544469],\n",
       "       [-0.62770173, -0.76317755],\n",
       "       [-0.21327389, -1.64992047],\n",
       "       [-0.72422083, -0.66301007],\n",
       "       [-0.37424823, -1.164131  ],\n",
       "       [-0.18031822, -1.80183681],\n",
       "       [-0.45323049, -1.00942525],\n",
       "       [-0.25814209, -1.48054114],\n",
       "       [-0.58726357, -0.81158448],\n",
       "       [-0.3069418 , -1.33064555],\n",
       "       [-0.2293901 , -1.58483474],\n",
       "       [-0.25073661, -1.50610241],\n",
       "       [-0.42280691, -1.06480563],\n",
       "       [-0.3069418 , -1.33064555],\n",
       "       [-0.49092367, -0.94690663],\n",
       "       [-0.13381997, -2.07742382],\n",
       "       [-0.2991533 , -1.3526497 ],\n",
       "       [-0.57206744, -0.83093322],\n",
       "       [-0.5007192 , -0.93164449],\n",
       "       [-1.5775442 , -0.23127849],\n",
       "       [-0.1767864 , -1.81990439],\n",
       "       [-0.63443616, -0.75552137],\n",
       "       [-0.56135782, -0.84497986],\n",
       "       [-0.28067515, -1.40761461],\n",
       "       [-0.47417172, -0.97392081],\n",
       "       [-0.31740701, -1.30207961],\n",
       "       [-1.26980513, -0.32973587],\n",
       "       [-0.34520437, -1.23126051],\n",
       "       [-0.66352279, -0.72367604],\n",
       "       [-0.23394635, -1.56735722],\n",
       "       [-0.18826528, -1.76255947],\n",
       "       [-0.20267699, -1.69576924],\n",
       "       [-0.93979879, -0.49545509],\n",
       "       [-0.52839736, -0.89049884],\n",
       "       [-0.27810716, -1.41558179],\n",
       "       [-0.18374458, -1.78467456],\n",
       "       [-0.33753988, -1.25009884],\n",
       "       [-0.73031645, -0.6573101 ],\n",
       "       [-0.14778268, -1.98499396],\n",
       "       [-0.40763651, -1.09428358],\n",
       "       [-0.75859692, -0.63171923],\n",
       "       [-0.10165926, -2.3365277 ],\n",
       "       [-0.44992738, -1.01521218],\n",
       "       [-0.2293901 , -1.58483474],\n",
       "       [-0.10019187, -2.35034597],\n",
       "       [-0.25143757, -1.50364651],\n",
       "       [-0.23654105, -1.55757379],\n",
       "       [-0.34520437, -1.23126051],\n",
       "       [-0.12040805, -2.17646888],\n",
       "       [-1.08818695, -0.41071882],\n",
       "       [-0.2438889 , -1.53050974],\n",
       "       [-0.16076481, -1.90711852],\n",
       "       [-0.49490051, -0.94066426],\n",
       "       [-0.36578989, -1.18302223],\n",
       "       [-1.39668659, -0.28424186],\n",
       "       [-0.2438889 , -1.53050974],\n",
       "       [-0.32559786, -1.2804778 ],\n",
       "       [-0.58303803, -0.81689789],\n",
       "       [-0.46131655, -0.99547755],\n",
       "       [-0.85439338, -0.55432699],\n",
       "       [-0.40763651, -1.09428358],\n",
       "       [-0.25919098, -1.47698801],\n",
       "       [-0.69907838, -0.68725095],\n",
       "       [-0.29796101, -1.35607667],\n",
       "       [-0.63443616, -0.75552137],\n",
       "       [-0.50561332, -0.92416048],\n",
       "       [-0.22243213, -1.61228867],\n",
       "       [-0.60523993, -0.78953347],\n",
       "       [-0.24320652, -1.53298423],\n",
       "       [-0.92601096, -0.50439757],\n",
       "       [-0.46859456, -0.98318212],\n",
       "       [-0.51446941, -0.91084983],\n",
       "       [-0.42444204, -1.06170578],\n",
       "       [-0.81463228, -0.58483485],\n",
       "       [-0.1767864 , -1.81990439],\n",
       "       [-0.51859126, -0.9047542 ],\n",
       "       [-0.90725409, -0.51689574],\n",
       "       [-0.10696136, -2.28829166],\n",
       "       [-0.3352805 , -1.25574854],\n",
       "       [-0.25407626, -1.49447063],\n",
       "       [-0.14251224, -2.01873743],\n",
       "       [-0.4547041 , -1.00686042],\n",
       "       [-0.32559786, -1.2804778 ],\n",
       "       [-0.65635413, -0.73134584],\n",
       "       [-0.21266834, -1.65247179],\n",
       "       [-0.21997575, -1.62221043],\n",
       "       [-0.66735785, -0.71961925],\n",
       "       [-0.12437187, -2.14602079],\n",
       "       [-0.23654105, -1.55757379],\n",
       "       [-0.86828637, -0.54415853],\n",
       "       [-0.31254441, -1.31521406],\n",
       "       [-0.61417489, -0.77889499],\n",
       "       [-0.43643132, -1.03941613],\n",
       "       [-0.27532761, -1.42430083],\n",
       "       [-0.62382256, -0.76763807],\n",
       "       [-0.70486861, -0.68156155],\n",
       "       [-0.29745955, -1.35752276],\n",
       "       [-2.06475614, -0.13564702],\n",
       "       [-0.27532761, -1.42430083],\n",
       "       [-1.96615289, -0.15081637],\n",
       "       [-0.55635578, -0.85166114]])"
      ]
     },
     "execution_count": 52,
     "metadata": {},
     "output_type": "execute_result"
    }
   ],
   "source": [
    "log_proba = lr.predict_log_proba(x_test_sc)\n",
    "log_proba"
   ]
  },
  {
   "cell_type": "code",
   "execution_count": 53,
   "metadata": {},
   "outputs": [],
   "source": [
    "# Evaluation Using Logistic Regression \n",
    "from sklearn.metrics import (confusion_matrix,accuracy_score,precision_score,\n",
    "                            recall_score,f1_score)"
   ]
  },
  {
   "cell_type": "code",
   "execution_count": 54,
   "metadata": {},
   "outputs": [
    {
     "name": "stdout",
     "output_type": "stream",
     "text": [
      "Confusion Matrix of LR: \n",
      " [[124  15]\n",
      " [ 40  44]]\n"
     ]
    }
   ],
   "source": [
    "print('Confusion Matrix of LR: \\n',confusion_matrix(y_test,lr.predict(x_test_sc)))"
   ]
  },
  {
   "cell_type": "code",
   "execution_count": 55,
   "metadata": {},
   "outputs": [
    {
     "name": "stdout",
     "output_type": "stream",
     "text": [
      "Accuracy Score of LR: \n",
      " 0.7533632286995515\n",
      "Precision Score of LR: \n",
      " 0.7457627118644068\n",
      "Recall Score of LR: \n",
      " 0.5238095238095238\n",
      "F1 Score of LR: \n",
      " 0.6153846153846153\n"
     ]
    }
   ],
   "source": [
    "print('Accuracy Score of LR: \\n',accuracy_score(y_test,lr.predict(x_test_sc)))\n",
    "acc.append(accuracy_score(y_test, lr.predict(x_test_sc)))\n",
    "print('Precision Score of LR: \\n',precision_score(y_test,lr.predict(x_test_sc)))\n",
    "precision.append(precision_score(y_test, lr.predict(x_test_sc)))\n",
    "print('Recall Score of LR: \\n',recall_score(y_test,lr.predict(x_test_sc)))\n",
    "recall.append(recall_score(y_test, lr.predict(x_test_sc)))\n",
    "print('F1 Score of LR: \\n',f1_score(y_test,lr.predict(x_test_sc)))\n",
    "f1.append(f1_score(y_test, lr.predict(x_test_sc)))"
   ]
  },
  {
   "cell_type": "code",
   "execution_count": 56,
   "metadata": {},
   "outputs": [
    {
     "name": "stderr",
     "output_type": "stream",
     "text": [
      "C:\\ProgramData\\Anaconda3\\lib\\site-packages\\sklearn\\utils\\validation.py:761: DataConversionWarning: A column-vector y was passed when a 1d array was expected. Please change the shape of y to (n_samples, ), for example using ravel().\n",
      "  y = column_or_1d(y, warn=True)\n"
     ]
    }
   ],
   "source": [
    "# By Using SVM\n",
    "from sklearn.svm import SVC\n",
    "svc = SVC(kernel='rbf',random_state=0)\n",
    "svc.fit(x_train_sc,y_train)\n",
    "models.append('SVM')"
   ]
  },
  {
   "cell_type": "code",
   "execution_count": 57,
   "metadata": {},
   "outputs": [
    {
     "name": "stdout",
     "output_type": "stream",
     "text": [
      "Confusion Matrix of SVM: \n",
      " [[121  18]\n",
      " [ 39  45]]\n"
     ]
    }
   ],
   "source": [
    "# Evaluation Using SVM\n",
    "print('Confusion Matrix of SVM: \\n',confusion_matrix(y_test,svc.predict(x_test_sc)))"
   ]
  },
  {
   "cell_type": "code",
   "execution_count": 58,
   "metadata": {},
   "outputs": [
    {
     "name": "stdout",
     "output_type": "stream",
     "text": [
      "Accuracy of SVM: \n",
      " 0.7443946188340808\n"
     ]
    }
   ],
   "source": [
    "print('Accuracy of SVM: \\n',accuracy_score(y_test,svc.predict(x_test_sc)))\n",
    "acc.append(accuracy_score(y_test, svc.predict(x_test_sc)))"
   ]
  },
  {
   "cell_type": "code",
   "execution_count": 59,
   "metadata": {},
   "outputs": [
    {
     "name": "stdout",
     "output_type": "stream",
     "text": [
      "Precision of SVM: \n",
      " 0.7142857142857143\n"
     ]
    }
   ],
   "source": [
    "print('Precision of SVM: \\n',precision_score(y_test,svc.predict(x_test_sc)))\n",
    "precision.append(precision_score(y_test, svc.predict(x_test_sc)))"
   ]
  },
  {
   "cell_type": "code",
   "execution_count": 60,
   "metadata": {},
   "outputs": [
    {
     "name": "stdout",
     "output_type": "stream",
     "text": [
      "Recall of SVM: \n",
      " 0.5357142857142857\n"
     ]
    }
   ],
   "source": [
    "print('Recall of SVM: \\n',recall_score(y_test,svc.predict(x_test_sc)))\n",
    "recall.append(recall_score(y_test, svc.predict(x_test_sc)))"
   ]
  },
  {
   "cell_type": "code",
   "execution_count": 61,
   "metadata": {},
   "outputs": [
    {
     "name": "stdout",
     "output_type": "stream",
     "text": [
      "F1 of SVM: \n",
      " 0.6122448979591837\n"
     ]
    }
   ],
   "source": [
    "print('F1 of SVM: \\n',f1_score(y_test,svc.predict(x_test_sc)))\n",
    "f1.append(f1_score(y_test, svc.predict(x_test_sc)))"
   ]
  },
  {
   "cell_type": "code",
   "execution_count": 62,
   "metadata": {},
   "outputs": [],
   "source": [
    "# By Using Decision Tree\n",
    "from sklearn.externals.six import StringIO\n",
    "from IPython.display import Image\n",
    "from sklearn.tree import export_graphviz\n",
    "import pydotplus"
   ]
  },
  {
   "cell_type": "code",
   "execution_count": 63,
   "metadata": {},
   "outputs": [],
   "source": [
    "from sklearn.tree import DecisionTreeClassifier\n",
    "dt = DecisionTreeClassifier(criterion = 'entropy',max_depth=3,\n",
    "                           random_state=0)\n",
    "dt.fit(x_train_sc,y_train)\n",
    "models.append('Decision Tree')"
   ]
  },
  {
   "cell_type": "code",
   "execution_count": 64,
   "metadata": {},
   "outputs": [
    {
     "name": "stdout",
     "output_type": "stream",
     "text": [
      "Confusion Matrix of DT: \n",
      " [[110  29]\n",
      " [ 31  53]]\n"
     ]
    }
   ],
   "source": [
    "# Evaluation Using Decision Tree\n",
    "print('Confusion Matrix of DT: \\n',confusion_matrix(y_test,dt.predict(x_test_sc)))"
   ]
  },
  {
   "cell_type": "code",
   "execution_count": 65,
   "metadata": {},
   "outputs": [
    {
     "name": "stdout",
     "output_type": "stream",
     "text": [
      "Accuracy Score of DT: \n",
      " 0.7309417040358744\n",
      "Precision Score of DT: \n",
      " 0.6463414634146342\n",
      "Recall Score of DT: \n",
      " 0.6309523809523809\n",
      "F1 Score of DT: \n",
      " 0.6385542168674698\n"
     ]
    }
   ],
   "source": [
    "print('Accuracy Score of DT: \\n',accuracy_score(y_test,dt.predict(x_test_sc)))\n",
    "acc.append(accuracy_score(y_test, dt.predict(x_test_sc)))\n",
    "print('Precision Score of DT: \\n',precision_score(y_test,dt.predict(x_test_sc)))\n",
    "precision.append(precision_score(y_test, dt.predict(x_test_sc)))\n",
    "print('Recall Score of DT: \\n',recall_score(y_test,dt.predict(x_test_sc)))\n",
    "recall.append(recall_score(y_test, dt.predict(x_test_sc)))\n",
    "print('F1 Score of DT: \\n',f1_score(y_test,dt.predict(x_test_sc)))\n",
    "f1.append(f1_score(y_test, dt.predict(x_test_sc)))"
   ]
  },
  {
   "cell_type": "code",
   "execution_count": 66,
   "metadata": {},
   "outputs": [
    {
     "name": "stderr",
     "output_type": "stream",
     "text": [
      "C:\\ProgramData\\Anaconda3\\lib\\site-packages\\ipykernel_launcher.py:5: DataConversionWarning: A column-vector y was passed when a 1d array was expected. Please change the shape of y to (n_samples,), for example using ravel().\n",
      "  \"\"\"\n"
     ]
    }
   ],
   "source": [
    "# By Using Random Forest\n",
    "from sklearn.ensemble import RandomForestClassifier\n",
    "rf = RandomForestClassifier(n_estimators=5,criterion='entropy',\n",
    "                           random_state=0)\n",
    "rf.fit(x_train_sc,y_train)\n",
    "models.append('Random Forest')"
   ]
  },
  {
   "cell_type": "code",
   "execution_count": 67,
   "metadata": {},
   "outputs": [
    {
     "name": "stdout",
     "output_type": "stream",
     "text": [
      "Confusion Matrix of RF: \n",
      " [[115  24]\n",
      " [ 36  48]]\n"
     ]
    }
   ],
   "source": [
    "# Evaluation Using Random Forest Classification\n",
    "print('Confusion Matrix of RF: \\n',confusion_matrix(y_test,rf.predict(x_test_sc)))"
   ]
  },
  {
   "cell_type": "code",
   "execution_count": 68,
   "metadata": {},
   "outputs": [
    {
     "name": "stdout",
     "output_type": "stream",
     "text": [
      "Accuracy Score of RF: \n",
      " 0.7309417040358744\n",
      "Precision Score of RF: \n",
      " 0.6463414634146342\n",
      "Recall Score of RF: \n",
      " 0.6309523809523809\n",
      "F1 Score of RF: \n",
      " 0.6385542168674698\n"
     ]
    }
   ],
   "source": [
    "print('Accuracy Score of RF: \\n',accuracy_score(y_test,dt.predict(x_test_sc)))\n",
    "acc.append(accuracy_score(y_test, rf.predict(x_test_sc)))\n",
    "print('Precision Score of RF: \\n',precision_score(y_test,dt.predict(x_test_sc)))\n",
    "precision.append(precision_score(y_test, rf.predict(x_test_sc)))\n",
    "print('Recall Score of RF: \\n',recall_score(y_test,dt.predict(x_test_sc)))\n",
    "recall.append(recall_score(y_test, rf.predict(x_test_sc)))\n",
    "print('F1 Score of RF: \\n',f1_score(y_test,dt.predict(x_test_sc)))\n",
    "f1.append(f1_score(y_test, rf.predict(x_test_sc)))"
   ]
  },
  {
   "cell_type": "code",
   "execution_count": 69,
   "metadata": {},
   "outputs": [
    {
     "name": "stderr",
     "output_type": "stream",
     "text": [
      "C:\\ProgramData\\Anaconda3\\lib\\site-packages\\sklearn\\utils\\validation.py:761: DataConversionWarning: A column-vector y was passed when a 1d array was expected. Please change the shape of y to (n_samples, ), for example using ravel().\n",
      "  y = column_or_1d(y, warn=True)\n"
     ]
    }
   ],
   "source": [
    "# By Using AdaBoost Classification\n",
    "from sklearn.ensemble import AdaBoostClassifier\n",
    "adb = AdaBoostClassifier(base_estimator=dt,n_estimators=15,\n",
    "                        algorithm = 'SAMME.R',random_state=40)\n",
    "adb.fit(x_train_sc,y_train)\n",
    "models.append('AdaBoost')"
   ]
  },
  {
   "cell_type": "code",
   "execution_count": 70,
   "metadata": {},
   "outputs": [
    {
     "name": "stdout",
     "output_type": "stream",
     "text": [
      "Confusion Matrix of ADB: \n",
      " [[114  25]\n",
      " [ 37  47]]\n"
     ]
    }
   ],
   "source": [
    "# Evaluation Using AdaBoost Classifiation\n",
    "print('Confusion Matrix of ADB: \\n',confusion_matrix(y_test,adb.predict(x_test_sc)))"
   ]
  },
  {
   "cell_type": "code",
   "execution_count": 71,
   "metadata": {},
   "outputs": [
    {
     "name": "stdout",
     "output_type": "stream",
     "text": [
      "Accuracy Score of ADB: \n",
      " 0.7219730941704036\n",
      "Precision Score of ADB: \n",
      " 0.6527777777777778\n",
      "Recall Score of ADB: \n",
      " 0.5595238095238095\n",
      "F1 Score of ADB: \n",
      " 0.6025641025641025\n"
     ]
    }
   ],
   "source": [
    "print('Accuracy Score of ADB: \\n',accuracy_score(y_test,adb.predict(x_test_sc)))\n",
    "acc.append(accuracy_score(y_test, adb.predict(x_test_sc)))\n",
    "print('Precision Score of ADB: \\n',precision_score(y_test,adb.predict(x_test_sc)))\n",
    "precision.append(precision_score(y_test, adb.predict(x_test_sc)))\n",
    "print('Recall Score of ADB: \\n',recall_score(y_test,adb.predict(x_test_sc)))\n",
    "recall.append(recall_score(y_test, adb.predict(x_test_sc)))\n",
    "print('F1 Score of ADB: \\n',f1_score(y_test,adb.predict(x_test_sc)))\n",
    "f1.append(f1_score(y_test, adb.predict(x_test_sc)))"
   ]
  },
  {
   "cell_type": "code",
   "execution_count": 72,
   "metadata": {},
   "outputs": [
    {
     "data": {
      "text/plain": [
       "['Logistic Regression', 'SVM', 'Decision Tree', 'Random Forest', 'AdaBoost']"
      ]
     },
     "execution_count": 72,
     "metadata": {},
     "output_type": "execute_result"
    }
   ],
   "source": [
    "models"
   ]
  },
  {
   "cell_type": "code",
   "execution_count": 73,
   "metadata": {},
   "outputs": [
    {
     "name": "stderr",
     "output_type": "stream",
     "text": [
      "C:\\ProgramData\\Anaconda3\\lib\\site-packages\\sklearn\\preprocessing\\label.py:219: DataConversionWarning: A column-vector y was passed when a 1d array was expected. Please change the shape of y to (n_samples, ), for example using ravel().\n",
      "  y = column_or_1d(y, warn=True)\n",
      "C:\\ProgramData\\Anaconda3\\lib\\site-packages\\sklearn\\preprocessing\\label.py:252: DataConversionWarning: A column-vector y was passed when a 1d array was expected. Please change the shape of y to (n_samples, ), for example using ravel().\n",
      "  y = column_or_1d(y, warn=True)\n",
      "C:\\ProgramData\\Anaconda3\\lib\\site-packages\\sklearn\\linear_model\\logistic.py:433: FutureWarning: Default solver will be changed to 'lbfgs' in 0.22. Specify a solver to silence this warning.\n",
      "  FutureWarning)\n"
     ]
    }
   ],
   "source": [
    "# Average Ensemble\n",
    "from sklearn.ensemble import VotingClassifier\n",
    "vc = VotingClassifier(estimators=[('Logistic Regression',lr),\n",
    "                                 ('SVM',svc),\n",
    "                                 ('Decison Tree',dt),\n",
    "                                 ('Random Forest',rf),\n",
    "                                 ('AdaBoost',adb)],\n",
    "                     voting = 'hard')\n",
    "vc.fit(x_train_sc,y_train)\n",
    "models.append('Average Ensemble')"
   ]
  },
  {
   "cell_type": "code",
   "execution_count": 74,
   "metadata": {},
   "outputs": [
    {
     "name": "stdout",
     "output_type": "stream",
     "text": [
      "Confusion Matrix of VC: \n",
      " [[121  18]\n",
      " [ 35  49]]\n"
     ]
    }
   ],
   "source": [
    "# Evaluation Using Average Ensemble\n",
    "print('Confusion Matrix of VC: \\n',confusion_matrix(y_test,vc.predict(x_test_sc)))"
   ]
  },
  {
   "cell_type": "code",
   "execution_count": 75,
   "metadata": {},
   "outputs": [
    {
     "name": "stdout",
     "output_type": "stream",
     "text": [
      "Accuracy Score of ADB: \n",
      " 0.7623318385650224\n",
      "Precision Score of ADB: \n",
      " 0.7313432835820896\n",
      "Recall Score of ADB: \n",
      " 0.5833333333333334\n",
      "F1 Score of ADB: \n",
      " 0.6490066225165563\n"
     ]
    }
   ],
   "source": [
    "print('Accuracy Score of ADB: \\n',accuracy_score(y_test,vc.predict(x_test_sc)))\n",
    "acc.append(accuracy_score(y_test,vc.predict(x_test_sc)))\n",
    "print('Precision Score of ADB: \\n',precision_score(y_test,vc.predict(x_test_sc)))\n",
    "precision.append(precision_score(y_test,vc.predict(x_test_sc)))\n",
    "print('Recall Score of ADB: \\n',recall_score(y_test,vc.predict(x_test_sc)))\n",
    "recall.append(recall_score(y_test,vc.predict(x_test_sc)))\n",
    "print('F1 Score of ADB: \\n',f1_score(y_test,vc.predict(x_test_sc)))\n",
    "f1.append(f1_score(y_test,vc.predict(x_test_sc)))"
   ]
  },
  {
   "cell_type": "code",
   "execution_count": 76,
   "metadata": {},
   "outputs": [
    {
     "data": {
      "text/plain": [
       "[0.7533632286995515,\n",
       " 0.7443946188340808,\n",
       " 0.7309417040358744,\n",
       " 0.7309417040358744,\n",
       " 0.7219730941704036,\n",
       " 0.7623318385650224]"
      ]
     },
     "execution_count": 76,
     "metadata": {},
     "output_type": "execute_result"
    }
   ],
   "source": [
    "acc"
   ]
  },
  {
   "cell_type": "code",
   "execution_count": 77,
   "metadata": {},
   "outputs": [
    {
     "data": {
      "text/plain": [
       "[0.7457627118644068,\n",
       " 0.7142857142857143,\n",
       " 0.6463414634146342,\n",
       " 0.6666666666666666,\n",
       " 0.6527777777777778,\n",
       " 0.7313432835820896]"
      ]
     },
     "execution_count": 77,
     "metadata": {},
     "output_type": "execute_result"
    }
   ],
   "source": [
    "precision"
   ]
  },
  {
   "cell_type": "code",
   "execution_count": 78,
   "metadata": {},
   "outputs": [
    {
     "data": {
      "text/plain": [
       "[0.6153846153846153,\n",
       " 0.6122448979591837,\n",
       " 0.6385542168674698,\n",
       " 0.6153846153846153,\n",
       " 0.6025641025641025,\n",
       " 0.6490066225165563]"
      ]
     },
     "execution_count": 78,
     "metadata": {},
     "output_type": "execute_result"
    }
   ],
   "source": [
    "f1"
   ]
  },
  {
   "cell_type": "code",
   "execution_count": 79,
   "metadata": {},
   "outputs": [],
   "source": [
    "model_dict = {'Models': models,\n",
    "             'Accuracies': acc,\n",
    "             'Precision': precision,\n",
    "             'Recall': recall,\n",
    "             'F1': f1}"
   ]
  },
  {
   "cell_type": "code",
   "execution_count": 80,
   "metadata": {},
   "outputs": [
    {
     "data": {
      "text/html": [
       "<div>\n",
       "<style scoped>\n",
       "    .dataframe tbody tr th:only-of-type {\n",
       "        vertical-align: middle;\n",
       "    }\n",
       "\n",
       "    .dataframe tbody tr th {\n",
       "        vertical-align: top;\n",
       "    }\n",
       "\n",
       "    .dataframe thead th {\n",
       "        text-align: right;\n",
       "    }\n",
       "</style>\n",
       "<table border=\"1\" class=\"dataframe\">\n",
       "  <thead>\n",
       "    <tr style=\"text-align: right;\">\n",
       "      <th></th>\n",
       "      <th>Models</th>\n",
       "      <th>Accuracies</th>\n",
       "      <th>Precision</th>\n",
       "      <th>Recall</th>\n",
       "      <th>F1</th>\n",
       "    </tr>\n",
       "  </thead>\n",
       "  <tbody>\n",
       "    <tr>\n",
       "      <th>0</th>\n",
       "      <td>Logistic Regression</td>\n",
       "      <td>0.753363</td>\n",
       "      <td>0.745763</td>\n",
       "      <td>0.523810</td>\n",
       "      <td>0.615385</td>\n",
       "    </tr>\n",
       "    <tr>\n",
       "      <th>1</th>\n",
       "      <td>SVM</td>\n",
       "      <td>0.744395</td>\n",
       "      <td>0.714286</td>\n",
       "      <td>0.535714</td>\n",
       "      <td>0.612245</td>\n",
       "    </tr>\n",
       "    <tr>\n",
       "      <th>2</th>\n",
       "      <td>Decision Tree</td>\n",
       "      <td>0.730942</td>\n",
       "      <td>0.646341</td>\n",
       "      <td>0.630952</td>\n",
       "      <td>0.638554</td>\n",
       "    </tr>\n",
       "    <tr>\n",
       "      <th>3</th>\n",
       "      <td>Random Forest</td>\n",
       "      <td>0.730942</td>\n",
       "      <td>0.666667</td>\n",
       "      <td>0.571429</td>\n",
       "      <td>0.615385</td>\n",
       "    </tr>\n",
       "    <tr>\n",
       "      <th>4</th>\n",
       "      <td>AdaBoost</td>\n",
       "      <td>0.721973</td>\n",
       "      <td>0.652778</td>\n",
       "      <td>0.559524</td>\n",
       "      <td>0.602564</td>\n",
       "    </tr>\n",
       "    <tr>\n",
       "      <th>5</th>\n",
       "      <td>Average Ensemble</td>\n",
       "      <td>0.762332</td>\n",
       "      <td>0.731343</td>\n",
       "      <td>0.583333</td>\n",
       "      <td>0.649007</td>\n",
       "    </tr>\n",
       "  </tbody>\n",
       "</table>\n",
       "</div>"
      ],
      "text/plain": [
       "                Models  Accuracies  Precision    Recall        F1\n",
       "0  Logistic Regression    0.753363   0.745763  0.523810  0.615385\n",
       "1                  SVM    0.744395   0.714286  0.535714  0.612245\n",
       "2        Decision Tree    0.730942   0.646341  0.630952  0.638554\n",
       "3        Random Forest    0.730942   0.666667  0.571429  0.615385\n",
       "4             AdaBoost    0.721973   0.652778  0.559524  0.602564\n",
       "5     Average Ensemble    0.762332   0.731343  0.583333  0.649007"
      ]
     },
     "execution_count": 80,
     "metadata": {},
     "output_type": "execute_result"
    }
   ],
   "source": [
    "model_df = pd.DataFrame(model_dict)\n",
    "model_df"
   ]
  },
  {
   "cell_type": "code",
   "execution_count": 81,
   "metadata": {},
   "outputs": [
    {
     "data": {
      "text/html": [
       "<div>\n",
       "<style scoped>\n",
       "    .dataframe tbody tr th:only-of-type {\n",
       "        vertical-align: middle;\n",
       "    }\n",
       "\n",
       "    .dataframe tbody tr th {\n",
       "        vertical-align: top;\n",
       "    }\n",
       "\n",
       "    .dataframe thead th {\n",
       "        text-align: right;\n",
       "    }\n",
       "</style>\n",
       "<table border=\"1\" class=\"dataframe\">\n",
       "  <thead>\n",
       "    <tr style=\"text-align: right;\">\n",
       "      <th></th>\n",
       "      <th>Models</th>\n",
       "      <th>Accuracies</th>\n",
       "      <th>Precision</th>\n",
       "      <th>Recall</th>\n",
       "      <th>F1</th>\n",
       "    </tr>\n",
       "  </thead>\n",
       "  <tbody>\n",
       "    <tr>\n",
       "      <th>5</th>\n",
       "      <td>Average Ensemble</td>\n",
       "      <td>0.762332</td>\n",
       "      <td>0.731343</td>\n",
       "      <td>0.583333</td>\n",
       "      <td>0.649007</td>\n",
       "    </tr>\n",
       "    <tr>\n",
       "      <th>0</th>\n",
       "      <td>Logistic Regression</td>\n",
       "      <td>0.753363</td>\n",
       "      <td>0.745763</td>\n",
       "      <td>0.523810</td>\n",
       "      <td>0.615385</td>\n",
       "    </tr>\n",
       "    <tr>\n",
       "      <th>1</th>\n",
       "      <td>SVM</td>\n",
       "      <td>0.744395</td>\n",
       "      <td>0.714286</td>\n",
       "      <td>0.535714</td>\n",
       "      <td>0.612245</td>\n",
       "    </tr>\n",
       "    <tr>\n",
       "      <th>2</th>\n",
       "      <td>Decision Tree</td>\n",
       "      <td>0.730942</td>\n",
       "      <td>0.646341</td>\n",
       "      <td>0.630952</td>\n",
       "      <td>0.638554</td>\n",
       "    </tr>\n",
       "    <tr>\n",
       "      <th>3</th>\n",
       "      <td>Random Forest</td>\n",
       "      <td>0.730942</td>\n",
       "      <td>0.666667</td>\n",
       "      <td>0.571429</td>\n",
       "      <td>0.615385</td>\n",
       "    </tr>\n",
       "    <tr>\n",
       "      <th>4</th>\n",
       "      <td>AdaBoost</td>\n",
       "      <td>0.721973</td>\n",
       "      <td>0.652778</td>\n",
       "      <td>0.559524</td>\n",
       "      <td>0.602564</td>\n",
       "    </tr>\n",
       "  </tbody>\n",
       "</table>\n",
       "</div>"
      ],
      "text/plain": [
       "                Models  Accuracies  Precision    Recall        F1\n",
       "5     Average Ensemble    0.762332   0.731343  0.583333  0.649007\n",
       "0  Logistic Regression    0.753363   0.745763  0.523810  0.615385\n",
       "1                  SVM    0.744395   0.714286  0.535714  0.612245\n",
       "2        Decision Tree    0.730942   0.646341  0.630952  0.638554\n",
       "3        Random Forest    0.730942   0.666667  0.571429  0.615385\n",
       "4             AdaBoost    0.721973   0.652778  0.559524  0.602564"
      ]
     },
     "execution_count": 81,
     "metadata": {},
     "output_type": "execute_result"
    }
   ],
   "source": [
    "model_df = model_df.sort_values(['Accuracies','F1','Recall','Precision'],ascending=False)\n",
    "model_df"
   ]
  },
  {
   "cell_type": "code",
   "execution_count": 82,
   "metadata": {},
   "outputs": [],
   "source": [
    "# Selection of Best Model\n",
    "best_model = model_df['Models'].values[0]"
   ]
  },
  {
   "cell_type": "code",
   "execution_count": 83,
   "metadata": {},
   "outputs": [
    {
     "data": {
      "text/plain": [
       "'Average Ensemble'"
      ]
     },
     "execution_count": 83,
     "metadata": {},
     "output_type": "execute_result"
    }
   ],
   "source": [
    "best_model"
   ]
  },
  {
   "cell_type": "code",
   "execution_count": 84,
   "metadata": {},
   "outputs": [
    {
     "name": "stderr",
     "output_type": "stream",
     "text": [
      "C:\\ProgramData\\Anaconda3\\lib\\site-packages\\sklearn\\linear_model\\logistic.py:433: FutureWarning: Default solver will be changed to 'lbfgs' in 0.22. Specify a solver to silence this warning.\n",
      "  FutureWarning)\n",
      "C:\\ProgramData\\Anaconda3\\lib\\site-packages\\sklearn\\utils\\validation.py:761: DataConversionWarning: A column-vector y was passed when a 1d array was expected. Please change the shape of y to (n_samples, ), for example using ravel().\n",
      "  y = column_or_1d(y, warn=True)\n",
      "C:\\ProgramData\\Anaconda3\\lib\\site-packages\\sklearn\\linear_model\\logistic.py:433: FutureWarning: Default solver will be changed to 'lbfgs' in 0.22. Specify a solver to silence this warning.\n",
      "  FutureWarning)\n",
      "C:\\ProgramData\\Anaconda3\\lib\\site-packages\\sklearn\\utils\\validation.py:761: DataConversionWarning: A column-vector y was passed when a 1d array was expected. Please change the shape of y to (n_samples, ), for example using ravel().\n",
      "  y = column_or_1d(y, warn=True)\n",
      "C:\\ProgramData\\Anaconda3\\lib\\site-packages\\sklearn\\linear_model\\logistic.py:433: FutureWarning: Default solver will be changed to 'lbfgs' in 0.22. Specify a solver to silence this warning.\n",
      "  FutureWarning)\n",
      "C:\\ProgramData\\Anaconda3\\lib\\site-packages\\sklearn\\utils\\validation.py:761: DataConversionWarning: A column-vector y was passed when a 1d array was expected. Please change the shape of y to (n_samples, ), for example using ravel().\n",
      "  y = column_or_1d(y, warn=True)\n",
      "C:\\ProgramData\\Anaconda3\\lib\\site-packages\\sklearn\\linear_model\\logistic.py:433: FutureWarning: Default solver will be changed to 'lbfgs' in 0.22. Specify a solver to silence this warning.\n",
      "  FutureWarning)\n",
      "C:\\ProgramData\\Anaconda3\\lib\\site-packages\\sklearn\\utils\\validation.py:761: DataConversionWarning: A column-vector y was passed when a 1d array was expected. Please change the shape of y to (n_samples, ), for example using ravel().\n",
      "  y = column_or_1d(y, warn=True)\n",
      "C:\\ProgramData\\Anaconda3\\lib\\site-packages\\sklearn\\linear_model\\logistic.py:433: FutureWarning: Default solver will be changed to 'lbfgs' in 0.22. Specify a solver to silence this warning.\n",
      "  FutureWarning)\n",
      "C:\\ProgramData\\Anaconda3\\lib\\site-packages\\sklearn\\utils\\validation.py:761: DataConversionWarning: A column-vector y was passed when a 1d array was expected. Please change the shape of y to (n_samples, ), for example using ravel().\n",
      "  y = column_or_1d(y, warn=True)\n",
      "C:\\ProgramData\\Anaconda3\\lib\\site-packages\\sklearn\\linear_model\\logistic.py:433: FutureWarning: Default solver will be changed to 'lbfgs' in 0.22. Specify a solver to silence this warning.\n",
      "  FutureWarning)\n",
      "C:\\ProgramData\\Anaconda3\\lib\\site-packages\\sklearn\\utils\\validation.py:761: DataConversionWarning: A column-vector y was passed when a 1d array was expected. Please change the shape of y to (n_samples, ), for example using ravel().\n",
      "  y = column_or_1d(y, warn=True)\n",
      "C:\\ProgramData\\Anaconda3\\lib\\site-packages\\sklearn\\linear_model\\logistic.py:433: FutureWarning: Default solver will be changed to 'lbfgs' in 0.22. Specify a solver to silence this warning.\n",
      "  FutureWarning)\n",
      "C:\\ProgramData\\Anaconda3\\lib\\site-packages\\sklearn\\utils\\validation.py:761: DataConversionWarning: A column-vector y was passed when a 1d array was expected. Please change the shape of y to (n_samples, ), for example using ravel().\n",
      "  y = column_or_1d(y, warn=True)\n",
      "C:\\ProgramData\\Anaconda3\\lib\\site-packages\\sklearn\\linear_model\\logistic.py:433: FutureWarning: Default solver will be changed to 'lbfgs' in 0.22. Specify a solver to silence this warning.\n",
      "  FutureWarning)\n",
      "C:\\ProgramData\\Anaconda3\\lib\\site-packages\\sklearn\\utils\\validation.py:761: DataConversionWarning: A column-vector y was passed when a 1d array was expected. Please change the shape of y to (n_samples, ), for example using ravel().\n",
      "  y = column_or_1d(y, warn=True)\n",
      "C:\\ProgramData\\Anaconda3\\lib\\site-packages\\sklearn\\linear_model\\logistic.py:433: FutureWarning: Default solver will be changed to 'lbfgs' in 0.22. Specify a solver to silence this warning.\n",
      "  FutureWarning)\n",
      "C:\\ProgramData\\Anaconda3\\lib\\site-packages\\sklearn\\utils\\validation.py:761: DataConversionWarning: A column-vector y was passed when a 1d array was expected. Please change the shape of y to (n_samples, ), for example using ravel().\n",
      "  y = column_or_1d(y, warn=True)\n",
      "C:\\ProgramData\\Anaconda3\\lib\\site-packages\\sklearn\\linear_model\\logistic.py:433: FutureWarning: Default solver will be changed to 'lbfgs' in 0.22. Specify a solver to silence this warning.\n",
      "  FutureWarning)\n",
      "C:\\ProgramData\\Anaconda3\\lib\\site-packages\\sklearn\\utils\\validation.py:761: DataConversionWarning: A column-vector y was passed when a 1d array was expected. Please change the shape of y to (n_samples, ), for example using ravel().\n",
      "  y = column_or_1d(y, warn=True)\n"
     ]
    }
   ],
   "source": [
    "# Hyper Parameter Tuning\n",
    "from sklearn.model_selection import cross_val_score\n",
    "accuracies = cross_val_score(estimator=lr,\n",
    "                            X = x_train_sc,\n",
    "                            y = y_train,\n",
    "                            cv = 10)\n",
    "acMean = accuracies.mean()\n",
    "acStd = accuracies.std()"
   ]
  },
  {
   "cell_type": "code",
   "execution_count": 85,
   "metadata": {},
   "outputs": [
    {
     "data": {
      "text/plain": [
       "0.705088195386703"
      ]
     },
     "execution_count": 85,
     "metadata": {},
     "output_type": "execute_result"
    }
   ],
   "source": [
    "acMean"
   ]
  },
  {
   "cell_type": "code",
   "execution_count": 86,
   "metadata": {},
   "outputs": [
    {
     "data": {
      "text/plain": [
       "0.04063998562083561"
      ]
     },
     "execution_count": 86,
     "metadata": {},
     "output_type": "execute_result"
    }
   ],
   "source": [
    "acStd"
   ]
  },
  {
   "cell_type": "code",
   "execution_count": 87,
   "metadata": {},
   "outputs": [
    {
     "data": {
      "text/plain": [
       "array([0.6119403 , 0.70149254, 0.76119403, 0.70149254, 0.71641791,\n",
       "       0.68656716, 0.76119403, 0.70149254, 0.72727273, 0.68181818])"
      ]
     },
     "execution_count": 87,
     "metadata": {},
     "output_type": "execute_result"
    }
   ],
   "source": [
    "accuracies"
   ]
  },
  {
   "cell_type": "code",
   "execution_count": 90,
   "metadata": {},
   "outputs": [
    {
     "name": "stderr",
     "output_type": "stream",
     "text": [
      "C:\\ProgramData\\Anaconda3\\lib\\site-packages\\sklearn\\model_selection\\_search.py:841: DeprecationWarning: The default of the `iid` parameter will change from True to False in version 0.22 and will be removed in 0.24. This will change numeric results when test-set sizes are unequal.\n",
      "  DeprecationWarning)\n",
      "C:\\ProgramData\\Anaconda3\\lib\\site-packages\\sklearn\\model_selection\\_search.py:740: DataConversionWarning: A column-vector y was passed when a 1d array was expected. Please change the shape of y to (n_samples,), for example using ravel().\n",
      "  self.best_estimator_.fit(X, y, **fit_params)\n"
     ]
    }
   ],
   "source": [
    "# Applying for GridSearch\n",
    "from sklearn.model_selection import GridSearchCV\n",
    "parameters =  {\"n_estimators\": [3,5,10],   # you can use any numbers, it wouldnt be affect the final result. no of decision trees.\n",
    "              \"criterion\":['gini','entropy'],\n",
    "              \"max_depth\": [2,3,5],     # Here you can use any numbers but if more depth then it takes more time for output.\n",
    "              \"min_samples_split\": [10, 20, 30],\n",
    "              \"min_samples_leaf\": [1, 5, 15],\n",
    "              \"min_weight_fraction_leaf\": [0.1, 0.05, 0.005]}\n",
    "grid_search = GridSearchCV(estimator=rf,\n",
    "                          param_grid= parameters,\n",
    "                          cv = 10,\n",
    "                          n_jobs = -1)\n",
    "grid_search = grid_search.fit(x_train_sc,y_train)"
   ]
  },
  {
   "cell_type": "code",
   "execution_count": 91,
   "metadata": {},
   "outputs": [],
   "source": [
    "best_accuracy = grid_search.best_score_"
   ]
  },
  {
   "cell_type": "code",
   "execution_count": 92,
   "metadata": {},
   "outputs": [
    {
     "data": {
      "text/plain": [
       "0.7065868263473054"
      ]
     },
     "execution_count": 92,
     "metadata": {},
     "output_type": "execute_result"
    }
   ],
   "source": [
    "best_accuracy"
   ]
  },
  {
   "cell_type": "code",
   "execution_count": 93,
   "metadata": {},
   "outputs": [],
   "source": [
    "best_parameters = grid_search.best_params_"
   ]
  },
  {
   "cell_type": "code",
   "execution_count": 94,
   "metadata": {},
   "outputs": [
    {
     "data": {
      "text/plain": [
       "{'criterion': 'gini',\n",
       " 'max_depth': 5,\n",
       " 'min_samples_leaf': 1,\n",
       " 'min_samples_split': 10,\n",
       " 'min_weight_fraction_leaf': 0.005,\n",
       " 'n_estimators': 5}"
      ]
     },
     "execution_count": 94,
     "metadata": {},
     "output_type": "execute_result"
    }
   ],
   "source": [
    "best_parameters"
   ]
  },
  {
   "cell_type": "code",
   "execution_count": 95,
   "metadata": {},
   "outputs": [
    {
     "name": "stderr",
     "output_type": "stream",
     "text": [
      "C:\\ProgramData\\Anaconda3\\lib\\site-packages\\ipykernel_launcher.py:9: DataConversionWarning: A column-vector y was passed when a 1d array was expected. Please change the shape of y to (n_samples,), for example using ravel().\n",
      "  if __name__ == '__main__':\n"
     ]
    },
    {
     "data": {
      "text/plain": [
       "RandomForestClassifier(bootstrap=True, class_weight=None, criterion='gini',\n",
       "            max_depth=5, max_features='auto', max_leaf_nodes=None,\n",
       "            min_impurity_decrease=0.0, min_impurity_split=None,\n",
       "            min_samples_leaf=1, min_samples_split=10,\n",
       "            min_weight_fraction_leaf=0.005, n_estimators=5, n_jobs=None,\n",
       "            oob_score=False, random_state=None, verbose=0,\n",
       "            warm_start=False)"
      ]
     },
     "execution_count": 95,
     "metadata": {},
     "output_type": "execute_result"
    }
   ],
   "source": [
    "# Making a new model on the basis of grid_search\n",
    "from sklearn.ensemble import RandomForestClassifier\n",
    "TuneRF = RandomForestClassifier(n_estimators = best_parameters[\"n_estimators\"],\n",
    "                                 criterion = best_parameters[\"criterion\"],\n",
    "                                 max_depth = best_parameters[\"max_depth\"],\n",
    "                                 min_samples_split = best_parameters[\"min_samples_split\"],\n",
    "                                 min_samples_leaf = best_parameters[\"min_samples_leaf\"],\n",
    "                                 min_weight_fraction_leaf = best_parameters[\"min_weight_fraction_leaf\"])\n",
    "TuneRF.fit(x_train_sc,y_train)"
   ]
  },
  {
   "cell_type": "code",
   "execution_count": 96,
   "metadata": {},
   "outputs": [
    {
     "name": "stdout",
     "output_type": "stream",
     "text": [
      "Confusion Matrix of TuneRF: \n",
      " [[121  18]\n",
      " [ 36  48]]\n"
     ]
    }
   ],
   "source": [
    "# Evaluation using TuneRF model\n",
    "print('Confusion Matrix of TuneRF: \\n',confusion_matrix(y_test,TuneRF.predict(x_test_sc)))"
   ]
  },
  {
   "cell_type": "code",
   "execution_count": 97,
   "metadata": {},
   "outputs": [
    {
     "name": "stdout",
     "output_type": "stream",
     "text": [
      "Accuracy Score of TuneRF: \n",
      " 0.757847533632287\n",
      "Precision Score of TuneRF: \n",
      " 0.7272727272727273\n",
      "Recall Score of TuneRF: \n",
      " 0.5714285714285714\n",
      "f1 Score of TuneRF: \n",
      " 0.64\n"
     ]
    }
   ],
   "source": [
    "print('Accuracy Score of TuneRF: \\n',accuracy_score(y_test,TuneRF.predict(x_test_sc)))\n",
    "print('Precision Score of TuneRF: \\n',precision_score(y_test,TuneRF.predict(x_test_sc)))\n",
    "print('Recall Score of TuneRF: \\n',recall_score(y_test,TuneRF.predict(x_test_sc)))\n",
    "print('f1 Score of TuneRF: \\n',f1_score(y_test,TuneRF.predict(x_test_sc)))"
   ]
  },
  {
   "cell_type": "code",
   "execution_count": null,
   "metadata": {},
   "outputs": [],
   "source": []
  }
 ],
 "metadata": {
  "kernelspec": {
   "display_name": "Python 3",
   "language": "python",
   "name": "python3"
  },
  "language_info": {
   "codemirror_mode": {
    "name": "ipython",
    "version": 3
   },
   "file_extension": ".py",
   "mimetype": "text/x-python",
   "name": "python",
   "nbconvert_exporter": "python",
   "pygments_lexer": "ipython3",
   "version": "3.7.3"
  }
 },
 "nbformat": 4,
 "nbformat_minor": 2
}
